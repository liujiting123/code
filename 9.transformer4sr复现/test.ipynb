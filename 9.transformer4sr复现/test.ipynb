{
 "cells": [
  {
   "metadata": {
    "ExecuteTime": {
     "end_time": "2025-04-15T08:15:22.481321Z",
     "start_time": "2025-04-15T08:15:22.465486Z"
    }
   },
   "cell_type": "code",
   "source": [
    "import torch\n",
    "\n",
    "emb = torch.nn.Embedding(10, 3,padding_idx=0)\n",
    "a = torch.tensor([1,2,3,0,0])\n",
    "b = emb(a)\n",
    "k = b.transpose(0,1)\n",
    "v0 = torch.tensor([1,2,3,])\n",
    "q = emb(v0)\n",
    "print(f\"kshape{k.shape}\")\n",
    "print(f\"qshape{q.shape}\")\n",
    "print(f\"k{k}\")\n",
    "print(f\"v{q}\")\n",
    "val = torch.matmul(q,k)\n",
    "print(val)"
   ],
   "id": "19db9ed2eb213b47",
   "outputs": [
    {
     "name": "stdout",
     "output_type": "stream",
     "text": [
      "kshapetorch.Size([3, 5])\n",
      "qshapetorch.Size([3, 3])\n",
      "ktensor([[ 1.2359, -1.2041, -0.1069,  0.0000,  0.0000],\n",
      "        [-0.6213, -0.7486,  0.0918,  0.0000,  0.0000],\n",
      "        [-0.0309, -0.5390,  1.7289,  0.0000,  0.0000]],\n",
      "       grad_fn=<TransposeBackward0>)\n",
      "vtensor([[ 1.2359, -0.6213, -0.0309],\n",
      "        [-1.2041, -0.7486, -0.5390],\n",
      "        [-0.1069,  0.0918,  1.7289]], grad_fn=<EmbeddingBackward0>)\n",
      "tensor([[ 1.9145, -1.0064, -0.2425,  0.0000,  0.0000],\n",
      "        [-1.0064,  2.3008, -0.8719,  0.0000,  0.0000],\n",
      "        [-0.2425, -0.8719,  3.0089,  0.0000,  0.0000]], grad_fn=<MmBackward0>)\n"
     ]
    }
   ],
   "execution_count": 22
  },
  {
   "metadata": {
    "ExecuteTime": {
     "end_time": "2025-04-15T08:23:53.412871Z",
     "start_time": "2025-04-15T08:23:53.393283Z"
    }
   },
   "cell_type": "code",
   "source": [
    "x = torch.tril(torch.ones(4,4),diagonal=0)\n",
    "x"
   ],
   "id": "559ac86de2f4c1a5",
   "outputs": [
    {
     "data": {
      "text/plain": [
       "tensor([[1., 0., 0., 0.],\n",
       "        [1., 1., 0., 0.],\n",
       "        [1., 1., 1., 0.],\n",
       "        [1., 1., 1., 1.]])"
      ]
     },
     "execution_count": 25,
     "metadata": {},
     "output_type": "execute_result"
    }
   ],
   "execution_count": 25
  }
 ],
 "metadata": {
  "kernelspec": {
   "display_name": "Python 3",
   "language": "python",
   "name": "python3"
  },
  "language_info": {
   "codemirror_mode": {
    "name": "ipython",
    "version": 2
   },
   "file_extension": ".py",
   "mimetype": "text/x-python",
   "name": "python",
   "nbconvert_exporter": "python",
   "pygments_lexer": "ipython2",
   "version": "2.7.6"
  }
 },
 "nbformat": 4,
 "nbformat_minor": 5
}
