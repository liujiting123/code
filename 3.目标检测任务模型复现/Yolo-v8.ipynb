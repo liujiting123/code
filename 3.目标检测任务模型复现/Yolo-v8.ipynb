{
 "cells": [
  {
   "cell_type": "code",
   "id": "initial_id",
   "metadata": {
    "collapsed": true,
    "ExecuteTime": {
     "end_time": "2025-03-03T03:38:42.033043Z",
     "start_time": "2025-03-03T03:38:42.007740Z"
    }
   },
   "source": [
    "import os.path as osp\n",
    "import torch\n",
    "import torch.utils.data as data\n",
    "import cv2\n",
    "import numpy as np\n",
    "import xml.etree.ElementTree as ET\n",
    "from torchvision import datasets\n",
    "from torchvision.transforms import transforms\n",
    "\n",
    "dataset = datasets.VOCDetection(root='../datasets',download=False,year='2007',\n",
    "                                transform=transforms.Compose([transforms.ToTensor()]),image_set='val')\n",
    "a = next(iter(dataset))\n",
    "\n"
   ],
   "outputs": [
    {
     "name": "stdout",
     "output_type": "stream",
     "text": [
      "<class 'dict'>\n"
     ]
    }
   ],
   "execution_count": 15
  },
  {
   "metadata": {
    "ExecuteTime": {
     "end_time": "2025-03-03T04:00:10.868576Z",
     "start_time": "2025-03-03T04:00:10.852697Z"
    }
   },
   "cell_type": "code",
   "source": [
    "VOC_CLASSES = (  # always index 0\n",
    "    'aeroplane', 'bicycle', 'bird', 'boat',\n",
    "    'bottle', 'bus', 'car', 'cat', 'chair',\n",
    "    'cow', 'diningtable', 'dog', 'horse',\n",
    "    'motorbike', 'person', 'pottedplant',\n",
    "    'sheep', 'sofa', 'train', 'tvmonitor')"
   ],
   "id": "e54909f5537cbe9a",
   "outputs": [],
   "execution_count": 24
  },
  {
   "metadata": {},
   "cell_type": "code",
   "outputs": [],
   "execution_count": null,
   "source": [
    "class VOCAnnotationTransform():\n",
    "    \"\"\"将 VOC 标注转换为包含边界框坐标和标签索引的张量。\n",
    "\n",
    "    该类初始化时使用一个字典来查找类别名称对应的索引。\n",
    "\n",
    "    参数：\n",
    "        class_to_ind (dict, 可选): 一个类别名称到索引的字典查找表\n",
    "            （默认情况下，VOC 20 个类别按字母顺序索引）\n",
    "        keep_difficult (bool, 可选): 是否保留难以识别的实例\n",
    "            （默认值: False）\n",
    "        height (int): 图像的高度\n",
    "        width (int): 图像的宽度\n",
    "\"\"\"\n",
    "    def __init__(self, class_to_ind=None, keep_difficult=False):\n",
    "        self.class_to_ind = class_to_ind or dict(\n",
    "            zip(VOC_CLASSES, range(len(VOC_CLASSES))))\n",
    "        self.keep_difficult = keep_difficult\n",
    "\n",
    "    def __call__(self, target, width, height):\n",
    "        \"\"\"\n",
    "    参数：\n",
    "        target (annotation): 需要转换为可用格式的目标标注，\n",
    "            该标注将是一个 ET.Element。\n",
    "\n",
    "    返回：\n",
    "        一个包含边界框列表的列表，格式为 [边界框坐标, 类别名称]。\n",
    "\"\"\"\n",
    "\n",
    "        res = []\n",
    "        for obj in target.iter('object'):\n",
    "            difficult = int(obj.find('difficult').text) == 1\n",
    "            if not self.keep_difficult and difficult:\n",
    "                continue\n",
    "            name = obj.find('name').text.lower().strip()\n",
    "            bbox = obj.find('bndbox')\n",
    "\n",
    "            pts = ['xmin', 'ymin', 'xmax', 'ymax']\n",
    "            bndbox = []\n",
    "            for i, pt in enumerate(pts):\n",
    "                cur_pt = int(bbox.find(pt).text) - 1\n",
    "                # scale height or width\n",
    "                cur_pt = cur_pt / width if i % 2 == 0 else cur_pt / height\n",
    "                bndbox.append(cur_pt)\n",
    "            label_idx = self.class_to_ind[name]\n",
    "            bndbox.append(label_idx)\n",
    "            res += [bndbox]  # [xmin, ymin, xmax, ymax, label_ind]\n",
    "            # img_id = target.find('filename').text[:-4]\n",
    "\n",
    "        return res  # [[xmin, ymin, xmax, ymax, label_ind], ... ]"
   ],
   "id": "a867b3b858747fc4"
  },
  {
   "metadata": {},
   "cell_type": "code",
   "outputs": [],
   "execution_count": null,
   "source": [
    "class VOCDetection(data.Dataset):\n",
    "    def __init__(self, root, split='trainval', transform=None, target_transform=VOCAnnotationTransform(),year = '2007'):\n",
    "        self.root = root\n",
    "        self._annopath = osp.join('%s', 'Annotations', '%s.xml')\n",
    "        self._imgpath = osp.join('%s', 'JPEGImages', '%s.jpg')\n",
    "        self.ids = list()\n",
    "        self.transform = transform\n",
    "        self.target_transform = target_transform\n",
    "        rootpath = osp.join(root,'VOC'+year)\n",
    "        for line in open(osp.join(rootpath, 'ImageSets', 'Main', split + '.txt')):\n",
    "                self.ids.append((rootpath, line.strip()))\n",
    "\n",
    "    def __getitem__(self, index):\n",
    "        img, target,h,w = self.pull_item(index)\n",
    "        return img, target\n",
    "\n",
    "    def pull_item(self, index):\n",
    "        img_id = self.ids[index]\n",
    "\n",
    "        target = ET.parse(self._annopath % img_id).getroot()\n",
    "        img = cv2.imread(self._imgpath % img_id)\n",
    "        height, width, channels = img.shape\n",
    "\n",
    "        if self.target_transform is not None:\n",
    "            target = self.target_transform(target, width, height)\n",
    "\n",
    "        if self.transform is not None:\n",
    "            target = np.array(target)\n",
    "            img, boxes, labels = self.transform(img, target[:, :4], target[:, 4])\n",
    "            # to rgb\n",
    "            img = img[:, :, (2, 1, 0)]\n",
    "            # img = img.transpose(2, 0, 1)\n",
    "            target = np.hstack((boxes, np.expand_dims(labels, axis=1)))\n",
    "        return torch.from_numpy(img).permute(2, 0, 1), target, height, width\n",
    "        # return torch.from_numpy(img), target, height, width\n",
    "\n",
    "    def __len__(self):\n",
    "        return len(self.ids)\n",
    "\n",
    "    def pull_image(self, index):\n",
    "        img_id = self.ids[index]\n",
    "        return cv2.imread(self._imgpath % img_id, cv2.IMREAD_COLOR)\n",
    "\n",
    "    def pull_anno(self, index):\n",
    "        img_id = self.ids[index]\n",
    "        anno = ET.parse(self._annopath % img_id).getroot()\n",
    "        gt = self.target_transform(anno, 1, 1)\n",
    "        return img_id[1], gt\n",
    "\n",
    "    def pull_tensor(self, index):\n",
    "        return torch.Tensor(self.pull_image(index)).unsqueeze_(0)"
   ],
   "id": "8dfe3dc9b8ef040a"
  }
 ],
 "metadata": {
  "kernelspec": {
   "display_name": "Python 3",
   "language": "python",
   "name": "python3"
  },
  "language_info": {
   "codemirror_mode": {
    "name": "ipython",
    "version": 2
   },
   "file_extension": ".py",
   "mimetype": "text/x-python",
   "name": "python",
   "nbconvert_exporter": "python",
   "pygments_lexer": "ipython2",
   "version": "2.7.6"
  }
 },
 "nbformat": 4,
 "nbformat_minor": 5
}
