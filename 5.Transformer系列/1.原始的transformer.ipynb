{
 "cells": [
  {
   "cell_type": "code",
   "id": "initial_id",
   "metadata": {
    "collapsed": true,
    "ExecuteTime": {
     "end_time": "2025-04-12T15:27:19.997137Z",
     "start_time": "2025-04-12T15:27:19.983168Z"
    }
   },
   "source": [
    "import torch\n",
    "import torch.nn as nn\n",
    "from math import sqrt\n",
    "import copy\n",
    "import math"
   ],
   "outputs": [],
   "execution_count": 97
  },
  {
   "metadata": {
    "ExecuteTime": {
     "end_time": "2025-04-12T15:27:20.022378Z",
     "start_time": "2025-04-12T15:27:19.997137Z"
    }
   },
   "cell_type": "code",
   "source": [
    "def clones(module,N):\n",
    "    return nn.ModuleList([copy.deepcopy(module) for _ in range(N)])\n",
    "\n",
    "def generate_causal_mask(seq_len):\n",
    "    # 生成上三角矩阵（对角线及以上为 1，其余为 0）\n",
    "    mask = torch.triu(torch.ones(seq_len, seq_len), diagonal=1).bool()\n",
    "    return mask  # 形状: (seq_len, seq_len)\n",
    "\n",
    "class SublayerConnection(nn.Module):\n",
    "    def __init__(self,size,dropout):\n",
    "        super(SublayerConnection,self).__init__()\n",
    "        self.norm = nn.LayerNorm(size)\n",
    "        self.dropout = nn.Dropout(dropout)\n",
    "\n",
    "    def forward(self,x,sublayer):\n",
    "        return self.dropout(self.norm(x+sublayer(x)))\n",
    "\n",
    "def attention(queries,keys,values,causal_mask = None,padding_mask = None):\n",
    "    d_k = queries.size(-1)\n",
    "    scores = torch.matmul(queries,keys.transpose(-2,-1)) / sqrt(d_k)\n",
    "    if causal_mask is not None:\n",
    "        scores = scores.masked_fill(causal_mask == 1, -1e9)\n",
    "\n",
    "    if padding_mask is not None:\n",
    "        scores = scores.masked_fill(padding_mask == 0, -1e9)\n",
    "    attention_scores = torch.softmax(scores,dim=-1)\n",
    "    result = torch.matmul(attention_scores,values)\n",
    "    return result\n",
    "\n",
    "class MultiHeadAttention(nn.Module):\n",
    "    def __init__(self, d_model, heads, dropout):\n",
    "        super(MultiHeadAttention, self).__init__()\n",
    "        assert d_model % heads == 0, \"d_model must be divisible by heads\"\n",
    "        self.d_model = d_model\n",
    "        self.d_k = d_model // heads\n",
    "        self.heads = heads\n",
    "        self.linears = clones(nn.Linear(d_model, d_model), 4)  # Q, K, V, 输出投影\n",
    "        self.dropout = nn.Dropout(dropout)\n",
    "\n",
    "    def forward(self, query, key, value, padding_mask=None,causal_mask=None):\n",
    "\n",
    "        batch_size = query.size(0)\n",
    "        # 线性变换并拆分为多头\n",
    "        q, k, v = [lin(x).view(batch_size, -1, self.heads, self.d_k).transpose(1, 2)\n",
    "                   for lin, x in zip(self.linears[:3], (query, key, value))]\n",
    "        # 计算注意力\n",
    "        atten = attention(q, k, v, causal_mask, padding_mask=padding_mask)\n",
    "        # 合并多头\n",
    "        x = atten.transpose(1, 2).contiguous().reshape(batch_size, -1, self.d_model)\n",
    "        # 输出投影\n",
    "        out = self.linears[-1](x)\n",
    "\n",
    "        return out"
   ],
   "id": "d937f6f3c297ec1e",
   "outputs": [],
   "execution_count": 98
  },
  {
   "metadata": {
    "ExecuteTime": {
     "end_time": "2025-04-12T15:27:20.054217Z",
     "start_time": "2025-04-12T15:27:20.038099Z"
    }
   },
   "cell_type": "code",
   "source": [
    "class PositionalEncoding(nn.Module):\n",
    "    def __init__(self, d_model, max_len=5000):\n",
    "        super(PositionalEncoding, self).__init__()\n",
    "        pe = torch.zeros(max_len, d_model)\n",
    "        position = torch.arange(0, max_len, dtype=torch.float).unsqueeze(1)\n",
    "        sin_div_term = torch.exp(torch.arange(0, d_model, 2).float() * (-math.log(10000.0) / d_model))\n",
    "        cos_div_term = torch.exp(torch.arange(1, d_model, 2).float() * (-math.log(10000.0) / d_model))\n",
    "        pe[:, 0::2] = torch.sin(position * sin_div_term)\n",
    "        pe[:, 1::2] = torch.cos(position * cos_div_term)\n",
    "\n",
    "        self.register_buffer('pe', pe.unsqueeze(0))  # shape: (1, max_len, d_model)\n",
    "\n",
    "    def forward(self, x):\n",
    "        return x + self.pe[:, :x.size(1)]  # 动态截取位置编码长度"
   ],
   "id": "1d3a6e4ee1f865a3",
   "outputs": [],
   "execution_count": 99
  },
  {
   "metadata": {
    "ExecuteTime": {
     "end_time": "2025-04-12T15:27:20.090408Z",
     "start_time": "2025-04-12T15:27:20.071291Z"
    }
   },
   "cell_type": "code",
   "source": [
    "class FFN(nn.Module):\n",
    "    def __init__(self,d_model,d_ff):\n",
    "        super(FFN,self).__init__()\n",
    "        self.d_model = d_model\n",
    "        self.d_ff = d_ff\n",
    "        self.linears = nn.Sequential(nn.Linear(d_model,d_ff),nn.ReLU(),nn.Linear(d_ff,d_model))\n",
    "\n",
    "    def forward(self,x):\n",
    "        return self.linears(x)\n",
    "\n",
    "class EncoderLayer(nn.Module):\n",
    "    def __init__(self,d_model,d_ff,heads,dropout):\n",
    "        super(EncoderLayer,self).__init__()\n",
    "        self.sublayers = clones(SublayerConnection(d_model,dropout),2)\n",
    "        self.atten = MultiHeadAttention(d_model,heads,dropout)\n",
    "        self.ffn = FFN(d_model,d_ff)\n",
    "\n",
    "    def forward(self, x,src_mask=None):\n",
    "        x = self.sublayers[0](x,lambda x :self.atten(x,x,x,src_mask))\n",
    "        x = self.sublayers[1](x, self.ffn)\n",
    "        return x\n",
    "\n",
    "class DecoderLayer(nn.Module):\n",
    "    def __init__(self,d_model,d_ff,heads,dropout):\n",
    "        super(DecoderLayer,self).__init__()\n",
    "        self.sublayers = clones(SublayerConnection(d_model,dropout),3)\n",
    "        self.atten_s = MultiHeadAttention(d_model,heads,dropout)\n",
    "        self.atten_c = MultiHeadAttention(d_model,heads,dropout)\n",
    "        self.ffn = FFN(d_model,d_ff)\n",
    "\n",
    "\n",
    "    def forward(self,memory,tgt,src_mask,tgt_mask,causal_mask):\n",
    "        x = self.sublayers[0](tgt,lambda x:self.atten_s(tgt,tgt,tgt,tgt_mask,causal_mask))\n",
    "        x = self.sublayers[1](x,lambda  x: self.atten_c(x,memory,memory,src_mask))\n",
    "        x = self.sublayers[2](x,self.ffn)\n",
    "        return x\n",
    "\n",
    "class OutputLayer(nn.Module):\n",
    "    def __init__(self,d_model,vocab_size):\n",
    "        super(OutputLayer,self).__init__()\n",
    "        self.layer = nn.Sequential(nn.Linear(d_model,vocab_size),nn.Softmax(dim=-1))\n",
    "\n",
    "    def forward(self,x):\n",
    "        return self.layer(x)"
   ],
   "id": "3b44651999d92249",
   "outputs": [],
   "execution_count": 100
  },
  {
   "metadata": {
    "ExecuteTime": {
     "end_time": "2025-04-12T15:27:20.122331Z",
     "start_time": "2025-04-12T15:27:20.106527Z"
    }
   },
   "cell_type": "code",
   "source": [
    "class Transformer(nn.Module):\n",
    "    def __init__(self, d_model, d_ff, heads, dropout, vocab_size, block_number=6):\n",
    "        super(Transformer, self).__init__()\n",
    "        self.encoder_layers = clones(EncoderLayer(d_model, d_ff, heads, dropout), block_number)\n",
    "        self.decoder_layers = clones(DecoderLayer(d_model, d_ff, heads, dropout), block_number)\n",
    "        self.position_enc = PositionalEncoding(d_model)\n",
    "        self.out = OutputLayer(d_model, vocab_size)\n",
    "\n",
    "    def forward(self, src, tgt, src_mask=None, tgt_mask=None):\n",
    "        # 添加位置编码\n",
    "        src = self.position_enc(src)\n",
    "        tgt = self.position_enc(tgt)\n",
    "\n",
    "        #现场生成因果掩码\n",
    "        seq_len = src.shape[1]\n",
    "        causal_mask = generate_causal_mask(seq_len)\n",
    "\n",
    "        # Encoder\n",
    "        for layer in self.encoder_layers:\n",
    "            src = layer(src, src_mask)\n",
    "\n",
    "        # Decoder\n",
    "        for layer in self.decoder_layers:\n",
    "            tgt = layer(src,tgt, src_mask, tgt_mask,causal_mask=causal_mask)\n",
    "\n",
    "        return self.out(tgt)\n",
    "\n"
   ],
   "id": "b46b85d09fe9ce98",
   "outputs": [],
   "execution_count": 101
  },
  {
   "metadata": {
    "ExecuteTime": {
     "end_time": "2025-04-12T15:27:20.153946Z",
     "start_time": "2025-04-12T15:27:20.138066Z"
    }
   },
   "cell_type": "code",
   "source": "",
   "id": "99a3629e026e58a0",
   "outputs": [],
   "execution_count": null
  },
  {
   "metadata": {
    "ExecuteTime": {
     "end_time": "2025-04-12T15:27:39.984364Z",
     "start_time": "2025-04-12T15:27:39.842471Z"
    }
   },
   "cell_type": "code",
   "source": [
    "d_model = 512\n",
    "d_ff = 2048\n",
    "heads = 8\n",
    "dropout = 0.2\n",
    "vocab_size = 5\n",
    "src = torch.randn(1,20,d_model)\n",
    "tgt = torch.randn(1,20,d_model)\n",
    "model = Transformer(d_model,d_ff,heads,dropout,vocab_size)\n",
    "y = model.generate(src)\n",
    "print(y.size())"
   ],
   "id": "7c38466fb79b360e",
   "outputs": [
    {
     "ename": "RuntimeError",
     "evalue": "The size of tensor a (2) must match the size of tensor b (512) at non-singleton dimension 2",
     "output_type": "error",
     "traceback": [
      "\u001B[1;31m---------------------------------------------------------------------------\u001B[0m",
      "\u001B[1;31mRuntimeError\u001B[0m                              Traceback (most recent call last)",
      "Cell \u001B[1;32mIn[103], line 9\u001B[0m\n\u001B[0;32m      7\u001B[0m tgt \u001B[38;5;241m=\u001B[39m torch\u001B[38;5;241m.\u001B[39mrandn(\u001B[38;5;241m1\u001B[39m,\u001B[38;5;241m20\u001B[39m,d_model)\n\u001B[0;32m      8\u001B[0m model \u001B[38;5;241m=\u001B[39m Transformer(d_model,d_ff,heads,dropout,vocab_size)\n\u001B[1;32m----> 9\u001B[0m y \u001B[38;5;241m=\u001B[39m \u001B[43mmodel\u001B[49m\u001B[38;5;241;43m.\u001B[39;49m\u001B[43mgenerate\u001B[49m\u001B[43m(\u001B[49m\u001B[43msrc\u001B[49m\u001B[43m)\u001B[49m\n\u001B[0;32m     10\u001B[0m \u001B[38;5;28mprint\u001B[39m(y\u001B[38;5;241m.\u001B[39msize())\n",
      "Cell \u001B[1;32mIn[101], line 46\u001B[0m, in \u001B[0;36mTransformer.generate\u001B[1;34m(self, src, src_mask, max_length, bos_token_id, eos_token_id)\u001B[0m\n\u001B[0;32m     43\u001B[0m causal_mask \u001B[38;5;241m=\u001B[39m torch\u001B[38;5;241m.\u001B[39mtriu(torch\u001B[38;5;241m.\u001B[39mones(tgt_len, tgt_len, device\u001B[38;5;241m=\u001B[39mdevice), diagonal\u001B[38;5;241m=\u001B[39m\u001B[38;5;241m1\u001B[39m)\u001B[38;5;241m.\u001B[39mbool()\n\u001B[0;32m     45\u001B[0m \u001B[38;5;66;03m# 解码器前向传播\u001B[39;00m\n\u001B[1;32m---> 46\u001B[0m tgt_pos \u001B[38;5;241m=\u001B[39m \u001B[38;5;28;43mself\u001B[39;49m\u001B[38;5;241;43m.\u001B[39;49m\u001B[43mposition_enc\u001B[49m\u001B[43m(\u001B[49m\u001B[43mtgt\u001B[49m\u001B[43m)\u001B[49m  \u001B[38;5;66;03m# [batch_size, tgt_len, d_model]\u001B[39;00m\n\u001B[0;32m     47\u001B[0m decoder_output \u001B[38;5;241m=\u001B[39m tgt_pos\n\u001B[0;32m     48\u001B[0m \u001B[38;5;28;01mfor\u001B[39;00m layer \u001B[38;5;129;01min\u001B[39;00m \u001B[38;5;28mself\u001B[39m\u001B[38;5;241m.\u001B[39mdecoder_layers:\n",
      "File \u001B[1;32mE:\\Anaconda\\envs\\symbolic_regression\\lib\\site-packages\\torch\\nn\\modules\\module.py:1739\u001B[0m, in \u001B[0;36mModule._wrapped_call_impl\u001B[1;34m(self, *args, **kwargs)\u001B[0m\n\u001B[0;32m   1737\u001B[0m     \u001B[38;5;28;01mreturn\u001B[39;00m \u001B[38;5;28mself\u001B[39m\u001B[38;5;241m.\u001B[39m_compiled_call_impl(\u001B[38;5;241m*\u001B[39margs, \u001B[38;5;241m*\u001B[39m\u001B[38;5;241m*\u001B[39mkwargs)  \u001B[38;5;66;03m# type: ignore[misc]\u001B[39;00m\n\u001B[0;32m   1738\u001B[0m \u001B[38;5;28;01melse\u001B[39;00m:\n\u001B[1;32m-> 1739\u001B[0m     \u001B[38;5;28;01mreturn\u001B[39;00m \u001B[38;5;28mself\u001B[39m\u001B[38;5;241m.\u001B[39m_call_impl(\u001B[38;5;241m*\u001B[39margs, \u001B[38;5;241m*\u001B[39m\u001B[38;5;241m*\u001B[39mkwargs)\n",
      "File \u001B[1;32mE:\\Anaconda\\envs\\symbolic_regression\\lib\\site-packages\\torch\\nn\\modules\\module.py:1750\u001B[0m, in \u001B[0;36mModule._call_impl\u001B[1;34m(self, *args, **kwargs)\u001B[0m\n\u001B[0;32m   1745\u001B[0m \u001B[38;5;66;03m# If we don't have any hooks, we want to skip the rest of the logic in\u001B[39;00m\n\u001B[0;32m   1746\u001B[0m \u001B[38;5;66;03m# this function, and just call forward.\u001B[39;00m\n\u001B[0;32m   1747\u001B[0m \u001B[38;5;28;01mif\u001B[39;00m \u001B[38;5;129;01mnot\u001B[39;00m (\u001B[38;5;28mself\u001B[39m\u001B[38;5;241m.\u001B[39m_backward_hooks \u001B[38;5;129;01mor\u001B[39;00m \u001B[38;5;28mself\u001B[39m\u001B[38;5;241m.\u001B[39m_backward_pre_hooks \u001B[38;5;129;01mor\u001B[39;00m \u001B[38;5;28mself\u001B[39m\u001B[38;5;241m.\u001B[39m_forward_hooks \u001B[38;5;129;01mor\u001B[39;00m \u001B[38;5;28mself\u001B[39m\u001B[38;5;241m.\u001B[39m_forward_pre_hooks\n\u001B[0;32m   1748\u001B[0m         \u001B[38;5;129;01mor\u001B[39;00m _global_backward_pre_hooks \u001B[38;5;129;01mor\u001B[39;00m _global_backward_hooks\n\u001B[0;32m   1749\u001B[0m         \u001B[38;5;129;01mor\u001B[39;00m _global_forward_hooks \u001B[38;5;129;01mor\u001B[39;00m _global_forward_pre_hooks):\n\u001B[1;32m-> 1750\u001B[0m     \u001B[38;5;28;01mreturn\u001B[39;00m forward_call(\u001B[38;5;241m*\u001B[39margs, \u001B[38;5;241m*\u001B[39m\u001B[38;5;241m*\u001B[39mkwargs)\n\u001B[0;32m   1752\u001B[0m result \u001B[38;5;241m=\u001B[39m \u001B[38;5;28;01mNone\u001B[39;00m\n\u001B[0;32m   1753\u001B[0m called_always_called_hooks \u001B[38;5;241m=\u001B[39m \u001B[38;5;28mset\u001B[39m()\n",
      "Cell \u001B[1;32mIn[99], line 14\u001B[0m, in \u001B[0;36mPositionalEncoding.forward\u001B[1;34m(self, x)\u001B[0m\n\u001B[0;32m     13\u001B[0m \u001B[38;5;28;01mdef\u001B[39;00m\u001B[38;5;250m \u001B[39m\u001B[38;5;21mforward\u001B[39m(\u001B[38;5;28mself\u001B[39m, x):\n\u001B[1;32m---> 14\u001B[0m     \u001B[38;5;28;01mreturn\u001B[39;00m \u001B[43mx\u001B[49m\u001B[43m \u001B[49m\u001B[38;5;241;43m+\u001B[39;49m\u001B[43m \u001B[49m\u001B[38;5;28;43mself\u001B[39;49m\u001B[38;5;241;43m.\u001B[39;49m\u001B[43mpe\u001B[49m\u001B[43m[\u001B[49m\u001B[43m:\u001B[49m\u001B[43m,\u001B[49m\u001B[43m \u001B[49m\u001B[43m:\u001B[49m\u001B[43mx\u001B[49m\u001B[38;5;241;43m.\u001B[39;49m\u001B[43msize\u001B[49m\u001B[43m(\u001B[49m\u001B[38;5;241;43m1\u001B[39;49m\u001B[43m)\u001B[49m\u001B[43m]\u001B[49m\n",
      "\u001B[1;31mRuntimeError\u001B[0m: The size of tensor a (2) must match the size of tensor b (512) at non-singleton dimension 2"
     ]
    }
   ],
   "execution_count": 103
  }
 ],
 "metadata": {
  "kernelspec": {
   "display_name": "Python 3",
   "language": "python",
   "name": "python3"
  },
  "language_info": {
   "codemirror_mode": {
    "name": "ipython",
    "version": 2
   },
   "file_extension": ".py",
   "mimetype": "text/x-python",
   "name": "python",
   "nbconvert_exporter": "python",
   "pygments_lexer": "ipython2",
   "version": "2.7.6"
  }
 },
 "nbformat": 4,
 "nbformat_minor": 5
}
