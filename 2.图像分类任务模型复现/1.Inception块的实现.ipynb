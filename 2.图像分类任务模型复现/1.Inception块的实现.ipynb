{
 "cells": [
  {
   "cell_type": "code",
   "execution_count": null,
   "id": "initial_id",
   "metadata": {
    "collapsed": true
   },
   "outputs": [],
   "source": [
    "from torchvision import transforms, datasets\n",
    "from torch.utils.data import DataLoader\n",
    "from torch.optim import Adam\n",
    "import matplotlib.pyplot as plt\n",
    "import torch\n",
    "import torch.nn as nn\n",
    "import copy\n",
    "\n",
    "device = torch.device(\"cuda:0\" if torch.cuda.is_available() else \"cpu\")\n",
    "transform = transforms.Compose([\n",
    "    transforms.ToTensor(),\n",
    "    #transforms.Resize((224, 224)),\n",
    "    transforms.Normalize(mean=0.1307, std=0.3081)\n",
    "\n",
    "])"
   ]
  },
  {
   "metadata": {},
   "cell_type": "code",
   "outputs": [],
   "execution_count": null,
   "source": [
    "#加入了一个dropout层的Inception块\n",
    "class Inception(nn.Module):\n",
    "    def __init__(self,in_channels,c1,c2,c3,c4):\n",
    "        super(Inception,self).__init__()\n",
    "        self.p1 = nn.Conv2d(in_channels = in_channels,out_channels = c1,kernel_size = 1)\n",
    "        self.p2 = nn.Sequential(\n",
    "            nn.Conv2d(in_channels = in_channels,out_channels = c2[0],kernel_size = 1),\n",
    "            nn.ReLU(),\n",
    "            nn.Conv2d(in_channels = c2[0],out_channels = c2[1],kernel_size = 3,padding = 1),\n",
    "            nn.ReLU()\n",
    "        )\n",
    "        self.p3 = nn.Sequential(\n",
    "            nn.Conv2d(in_channels = in_channels,out_channels = c3[0],kernel_size = 1),\n",
    "            nn.ReLU(),\n",
    "            nn.Conv2d(in_channels = c3[0],out_channels = c3[1],kernel_size = 5,padding = 2),\n",
    "            nn.ReLU()\n",
    "        )\n",
    "        self.p4 = nn.Sequential(\n",
    "            nn.MaxPool2d(kernel_size = 3,padding = 1),\n",
    "            nn.ReLU(),\n",
    "            nn.Conv2d(in_channels = in_channels,out_channels = c4,kernel_size = 1),\n",
    "            nn.ReLU()\n",
    "        )\n",
    "        self.dp = nn.Dropout(0.3)\n",
    "\n",
    "    def forward(self,x):\n",
    "        p1 = self.dp(self.p1(x))\n",
    "        p2 = self.dp(self.p2(x))\n",
    "        p3 = self.dp(self.p3(x))\n",
    "        p4 = self.dp(self.p4(x))\n",
    "        return torch.cat((p1,p2,p3,p4),1)\n",
    "\n"
   ],
   "id": "20f35c102e7426d0"
  }
 ],
 "metadata": {
  "kernelspec": {
   "display_name": "Python 3",
   "language": "python",
   "name": "python3"
  },
  "language_info": {
   "codemirror_mode": {
    "name": "ipython",
    "version": 2
   },
   "file_extension": ".py",
   "mimetype": "text/x-python",
   "name": "python",
   "nbconvert_exporter": "python",
   "pygments_lexer": "ipython2",
   "version": "2.7.6"
  }
 },
 "nbformat": 4,
 "nbformat_minor": 5
}
