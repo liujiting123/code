{
 "cells": [
  {
   "metadata": {
    "ExecuteTime": {
     "end_time": "2025-02-02T05:25:18.585322Z",
     "start_time": "2025-02-02T05:25:18.581425Z"
    }
   },
   "cell_type": "code",
   "source": "",
   "id": "5ecfc09df338d3fa",
   "outputs": [],
   "execution_count": null
  },
  {
   "cell_type": "code",
   "id": "initial_id",
   "metadata": {
    "collapsed": true,
    "jupyter": {
     "is_executing": true
    },
    "ExecuteTime": {
     "start_time": "2025-02-02T05:25:18.596325Z"
    }
   },
   "source": [
    "from torchvision import transforms, datasets\n",
    "from torch.utils.data import DataLoader\n",
    "from torch.optim import Adam\n",
    "import matplotlib.pyplot as plt\n",
    "import torch\n",
    "import torch.nn as nn\n",
    "import copy\n",
    "\n",
    "device = torch.device(\"cuda:0\" if torch.cuda.is_available() else \"cpu\")\n",
    "transform = transforms.Compose([\n",
    "    transforms.ToTensor(),\n",
    "    #transforms.Resize((224, 224)),\n",
    "    transforms.Normalize(mean=0.1307, std=0.3081)\n",
    "\n",
    "])\n",
    "train_dataset = datasets.CIFAR10(root='../data', train=True, download=True, transform=transform)\n",
    "train_dataloader = DataLoader(train_dataset, batch_size=64, shuffle=True)\n",
    "\n",
    "test_dataset = datasets.CIFAR10(root='../data', train=False, download=True, transform=transform)\n",
    "test_dataloader = DataLoader(test_dataset, batch_size=64, shuffle=False)\n",
    "\n",
    "\n",
    "print(test_dataset[0][0].shape)"
   ],
   "outputs": [
    {
     "name": "stderr",
     "output_type": "stream",
     "text": [
      "  2%|▏         | 3.74M/170M [00:08<17:10, 162kB/s]"
     ]
    }
   ],
   "execution_count": null
  },
  {
   "metadata": {
    "ExecuteTime": {
     "end_time": "2025-02-02T05:25:17.690155800Z",
     "start_time": "2025-01-28T09:42:51.881017Z"
    }
   },
   "cell_type": "code",
   "source": [
    "def clones(module, N):\n",
    "    return nn.ModuleList([copy.deepcopy(module) for _ in range(N)])\n",
    "\n",
    "class SublayerConnection(nn.Module):\n",
    "    def __init__(self, in_channels,out_channels,num_bns):\n",
    "        super(SublayerConnection, self).__init__()\n",
    "        self.relu = nn.ReLU()\n",
    "        self.norm1 = nn.BatchNorm2d(num_features=in_channels)\n",
    "        self.norms = clones(nn.BatchNorm2d(num_features=out_channels), num_bns)\n",
    "\n",
    "    def forward(self, x, sublayer,i):\n",
    "        if i !=0:\n",
    "            x = x + self.relu(sublayer(self.norms[i](x)))\n",
    "        else:\n",
    "            x =self.relu(sublayer(self.norm1(x)))\n",
    "\n",
    "        return x\n",
    "\n",
    "class Model(nn.Module):\n",
    "    def __init__(self, in_channels, out_channels,num_conv_layers,in_features,out_features,middle_features):\n",
    "        super(Model, self).__init__()\n",
    "        self.num_conv_layers = num_conv_layers\n",
    "        self.sublayers = clones(SublayerConnection(in_channels,out_channels,self.num_conv_layers), self.num_conv_layers)\n",
    "\n",
    "\n",
    "        self.conv_1 = nn.Conv2d(in_channels=in_channels, out_channels=out_channels, kernel_size=3, stride=1, padding=1)\n",
    "        self.conv_s = clones(nn.Conv2d(in_channels=out_channels, out_channels=out_channels, kernel_size=3, stride=1, padding=1),self.num_conv_layers-1)\n",
    "        self.linear1 = nn.Linear(in_features=in_features, out_features=middle_features)\n",
    "        self.linear2 = nn.Linear(in_features=middle_features, out_features=out_features)\n",
    "        self.relu = nn.ReLU()\n",
    "        self.dropout = nn.Dropout(0.2)\n",
    "        self.pool = nn.MaxPool2d(kernel_size=2, stride=2)\n",
    "\n",
    "    def forward(self, x):\n",
    "        for i in range(self.num_conv_layers):\n",
    "            if i ==0:\n",
    "                x = self.pool(self.sublayers[i](x,self.conv_1,i))\n",
    "\n",
    "            else:\n",
    "                x = self.pool(self.sublayers[i](x,self.conv_s[i-1],i))\n",
    "\n",
    "        x = x.view(x.size(0), -1)\n",
    "        \n",
    "\n",
    "        x = self.dropout(self.relu(self.linear1(x)))\n",
    "        return self.linear2(x)\n",
    "\n",
    "model = Model(in_channels=3,out_channels=64,num_conv_layers=4,in_features=256,out_features=128,middle_features=10)\n",
    "def init_weights(m):\n",
    "    if isinstance(m, (nn.Conv2d, nn.Linear)):\n",
    "        nn.init.xavier_uniform_(m.weight)\n",
    "        if m.bias is not None:\n",
    "            m.bias.data.zero_()\n",
    "\n",
    "\n",
    "model = model.apply(init_weights)\n",
    "model = model.to(device)"
   ],
   "id": "b59526b8c0484f82",
   "outputs": [],
   "execution_count": 23
  },
  {
   "metadata": {
    "ExecuteTime": {
     "end_time": "2025-02-02T05:25:17.714518200Z",
     "start_time": "2025-01-28T09:42:51.948583Z"
    }
   },
   "cell_type": "code",
   "source": [
    "optimizer = Adam(model.parameters(), lr=0.005)\n",
    "criterion = nn.CrossEntropyLoss()\n",
    "\n",
    "\n",
    "def train(num_epochs):\n",
    "    model.train()\n",
    "    losses = []\n",
    "    epoches = torch.arange(1, num_epochs + 1)\n",
    "\n",
    "    for epoch in range(num_epochs):\n",
    "        running_loss = 0.0\n",
    "        total = 0\n",
    "        correct = 0\n",
    "        for idx, (x, y) in enumerate(train_dataloader):\n",
    "            optimizer.zero_grad()\n",
    "            x, y = x.to(device), y.to(device)\n",
    "            y_pred = model(x)\n",
    "            loss = criterion(y_pred, y)\n",
    "\n",
    "            loss.backward()\n",
    "            optimizer.step()\n",
    "            running_loss += loss.item() * x.size(0)\n",
    "            total += y.size(0)\n",
    "            correct += (y_pred.argmax(dim=1) == y).sum().item()\n",
    "            if (idx + 1) % 100 == 0:\n",
    "                print(\n",
    "                    f\"Epoch [{epoch + 1}/{num_epochs}],Batches[{idx + 1}/{len(train_dataloader)}], Loss: {running_loss / ((idx + 1) * (x.size(0))):.3f} , Accuracy: {(100 * correct / total):.2f}%\")\n",
    "        losses.append(running_loss / len(train_dataloader.dataset))\n",
    "        print(f\"第{epoch + 1}轮的训练精度为：{(100 * correct / total):.2f}%\\n\")\n",
    "    plt.plot(epoches, losses)\n",
    "    plt.xlabel(\"Epoch\")\n",
    "    plt.ylabel(\"Loss\")\n",
    "    plt.show()\n",
    "\n",
    "\n",
    "def test():\n",
    "    model.eval()  # 设置模型为评估模式\n",
    "    correct = 0\n",
    "    total = 0\n",
    "\n",
    "    with torch.no_grad():  # 不计算梯度\n",
    "        for images, labels in test_dataloader:\n",
    "            images, labels = images.to(device), labels.to(device)\n",
    "\n",
    "            outputs = model(images)\n",
    "            _, predicted = torch.max(outputs.data, 1)  # 获取预测结果\n",
    "            total += labels.size(0)\n",
    "            correct += (predicted == labels).sum().item()\n",
    "\n",
    "    print(f'Test Accuracy: {100 * correct / total:.2f}%')"
   ],
   "id": "5a555f7ba9cfa7d2",
   "outputs": [],
   "execution_count": 24
  },
  {
   "metadata": {
    "ExecuteTime": {
     "end_time": "2025-02-02T05:25:17.726266600Z",
     "start_time": "2025-01-28T09:42:51.999938Z"
    }
   },
   "cell_type": "code",
   "source": [
    "if __name__ == '__main__':\n",
    "    num_epochs = 10\n",
    "    train(num_epochs)\n",
    "    test()"
   ],
   "id": "376c1e995a8a494d",
   "outputs": [
    {
     "name": "stdout",
     "output_type": "stream",
     "text": [
      "Epoch [1/10],Batches[100/782], Loss: 2.666 , Accuracy: 16.81%\n",
      "Epoch [1/10],Batches[200/782], Loss: 2.341 , Accuracy: 20.08%\n",
      "Epoch [1/10],Batches[300/782], Loss: 2.228 , Accuracy: 21.02%\n",
      "Epoch [1/10],Batches[400/782], Loss: 2.159 , Accuracy: 21.74%\n",
      "Epoch [1/10],Batches[500/782], Loss: 2.108 , Accuracy: 22.50%\n",
      "Epoch [1/10],Batches[600/782], Loss: 2.073 , Accuracy: 22.95%\n",
      "Epoch [1/10],Batches[700/782], Loss: 2.041 , Accuracy: 23.70%\n",
      "第1轮的训练精度为：24.15%\n",
      "\n",
      "Epoch [2/10],Batches[100/782], Loss: 1.809 , Accuracy: 28.59%\n",
      "Epoch [2/10],Batches[200/782], Loss: 1.786 , Accuracy: 30.04%\n",
      "Epoch [2/10],Batches[300/782], Loss: 1.783 , Accuracy: 30.47%\n",
      "Epoch [2/10],Batches[400/782], Loss: 1.773 , Accuracy: 31.32%\n",
      "Epoch [2/10],Batches[500/782], Loss: 1.757 , Accuracy: 31.98%\n",
      "Epoch [2/10],Batches[600/782], Loss: 1.745 , Accuracy: 32.62%\n",
      "Epoch [2/10],Batches[700/782], Loss: 1.736 , Accuracy: 33.09%\n",
      "第2轮的训练精度为：33.51%\n",
      "\n",
      "Epoch [3/10],Batches[100/782], Loss: 1.632 , Accuracy: 37.19%\n",
      "Epoch [3/10],Batches[200/782], Loss: 1.628 , Accuracy: 37.88%\n",
      "Epoch [3/10],Batches[300/782], Loss: 1.636 , Accuracy: 37.77%\n",
      "Epoch [3/10],Batches[400/782], Loss: 1.630 , Accuracy: 38.20%\n",
      "Epoch [3/10],Batches[500/782], Loss: 1.627 , Accuracy: 38.67%\n",
      "Epoch [3/10],Batches[600/782], Loss: 1.627 , Accuracy: 38.78%\n",
      "Epoch [3/10],Batches[700/782], Loss: 1.622 , Accuracy: 39.01%\n",
      "第3轮的训练精度为：39.24%\n",
      "\n",
      "Epoch [4/10],Batches[100/782], Loss: 1.572 , Accuracy: 41.31%\n",
      "Epoch [4/10],Batches[200/782], Loss: 1.549 , Accuracy: 42.19%\n",
      "Epoch [4/10],Batches[300/782], Loss: 1.552 , Accuracy: 42.08%\n",
      "Epoch [4/10],Batches[400/782], Loss: 1.544 , Accuracy: 42.45%\n",
      "Epoch [4/10],Batches[500/782], Loss: 1.539 , Accuracy: 42.62%\n",
      "Epoch [4/10],Batches[600/782], Loss: 1.538 , Accuracy: 42.75%\n",
      "Epoch [4/10],Batches[700/782], Loss: 1.535 , Accuracy: 42.99%\n",
      "第4轮的训练精度为：43.04%\n",
      "\n",
      "Epoch [5/10],Batches[100/782], Loss: 1.451 , Accuracy: 45.64%\n",
      "Epoch [5/10],Batches[200/782], Loss: 1.459 , Accuracy: 45.23%\n",
      "Epoch [5/10],Batches[300/782], Loss: 1.474 , Accuracy: 44.83%\n",
      "Epoch [5/10],Batches[400/782], Loss: 1.482 , Accuracy: 44.75%\n",
      "Epoch [5/10],Batches[500/782], Loss: 1.482 , Accuracy: 44.94%\n",
      "Epoch [5/10],Batches[600/782], Loss: 1.483 , Accuracy: 44.99%\n",
      "Epoch [5/10],Batches[700/782], Loss: 1.488 , Accuracy: 44.90%\n",
      "第5轮的训练精度为：44.86%\n",
      "\n",
      "Epoch [6/10],Batches[100/782], Loss: 1.435 , Accuracy: 45.39%\n",
      "Epoch [6/10],Batches[200/782], Loss: 1.438 , Accuracy: 45.82%\n",
      "Epoch [6/10],Batches[300/782], Loss: 1.438 , Accuracy: 45.99%\n",
      "Epoch [6/10],Batches[400/782], Loss: 1.444 , Accuracy: 46.10%\n",
      "Epoch [6/10],Batches[500/782], Loss: 1.445 , Accuracy: 46.06%\n",
      "Epoch [6/10],Batches[600/782], Loss: 1.448 , Accuracy: 46.06%\n",
      "Epoch [6/10],Batches[700/782], Loss: 1.451 , Accuracy: 45.87%\n",
      "第6轮的训练精度为：45.97%\n",
      "\n",
      "Epoch [7/10],Batches[100/782], Loss: 1.438 , Accuracy: 46.77%\n",
      "Epoch [7/10],Batches[200/782], Loss: 1.434 , Accuracy: 47.01%\n",
      "Epoch [7/10],Batches[300/782], Loss: 1.443 , Accuracy: 46.72%\n",
      "Epoch [7/10],Batches[400/782], Loss: 1.432 , Accuracy: 47.00%\n",
      "Epoch [7/10],Batches[500/782], Loss: 1.435 , Accuracy: 46.75%\n",
      "Epoch [7/10],Batches[600/782], Loss: 1.434 , Accuracy: 46.95%\n",
      "Epoch [7/10],Batches[700/782], Loss: 1.434 , Accuracy: 46.98%\n",
      "第7轮的训练精度为：46.90%\n",
      "\n",
      "Epoch [8/10],Batches[100/782], Loss: 1.388 , Accuracy: 48.00%\n",
      "Epoch [8/10],Batches[200/782], Loss: 1.380 , Accuracy: 48.60%\n",
      "Epoch [8/10],Batches[300/782], Loss: 1.385 , Accuracy: 48.61%\n",
      "Epoch [8/10],Batches[400/782], Loss: 1.389 , Accuracy: 48.50%\n",
      "Epoch [8/10],Batches[500/782], Loss: 1.390 , Accuracy: 48.40%\n",
      "Epoch [8/10],Batches[600/782], Loss: 1.394 , Accuracy: 48.26%\n",
      "Epoch [8/10],Batches[700/782], Loss: 1.393 , Accuracy: 48.25%\n",
      "第8轮的训练精度为：48.23%\n",
      "\n",
      "Epoch [9/10],Batches[100/782], Loss: 1.360 , Accuracy: 49.56%\n",
      "Epoch [9/10],Batches[200/782], Loss: 1.352 , Accuracy: 49.89%\n",
      "Epoch [9/10],Batches[300/782], Loss: 1.357 , Accuracy: 49.47%\n",
      "Epoch [9/10],Batches[400/782], Loss: 1.365 , Accuracy: 49.19%\n",
      "Epoch [9/10],Batches[500/782], Loss: 1.363 , Accuracy: 49.30%\n",
      "Epoch [9/10],Batches[600/782], Loss: 1.367 , Accuracy: 49.29%\n",
      "Epoch [9/10],Batches[700/782], Loss: 1.368 , Accuracy: 49.16%\n",
      "第9轮的训练精度为：49.06%\n",
      "\n",
      "Epoch [10/10],Batches[100/782], Loss: 1.340 , Accuracy: 50.84%\n",
      "Epoch [10/10],Batches[200/782], Loss: 1.347 , Accuracy: 50.43%\n",
      "Epoch [10/10],Batches[300/782], Loss: 1.362 , Accuracy: 49.86%\n",
      "Epoch [10/10],Batches[400/782], Loss: 1.358 , Accuracy: 49.82%\n",
      "Epoch [10/10],Batches[500/782], Loss: 1.360 , Accuracy: 49.64%\n",
      "Epoch [10/10],Batches[600/782], Loss: 1.361 , Accuracy: 49.69%\n",
      "Epoch [10/10],Batches[700/782], Loss: 1.361 , Accuracy: 49.66%\n",
      "第10轮的训练精度为：49.48%\n",
      "\n"
     ]
    },
    {
     "data": {
      "text/plain": [
       "<Figure size 640x480 with 1 Axes>"
      ],
      "image/png": "[encoded data removed]"
     },
     "metadata": {},
     "output_type": "display_data"
    },
    {
     "name": "stdout",
     "output_type": "stream",
     "text": [
      "Test Accuracy: 59.66%\n"
     ]
    }
   ],
   "execution_count": 25
  }
 ],
 "metadata": {
  "kernelspec": {
   "display_name": "Python 3",
   "language": "python",
   "name": "python3"
  },
  "language_info": {
   "codemirror_mode": {
    "name": "ipython",
    "version": 2
   },
   "file_extension": ".py",
   "mimetype": "text/x-python",
   "name": "python",
   "nbconvert_exporter": "python",
   "pygments_lexer": "ipython2",
   "version": "2.7.6"
  }
 },
 "nbformat": 4,
 "nbformat_minor": 5
}
