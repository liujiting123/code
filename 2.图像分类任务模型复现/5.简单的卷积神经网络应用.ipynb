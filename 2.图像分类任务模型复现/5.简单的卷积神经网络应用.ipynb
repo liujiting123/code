{
 "cells": [
  {
   "cell_type": "code",
   "id": "initial_id",
   "metadata": {
    "collapsed": true,
    "ExecuteTime": {
     "end_time": "2025-01-26T14:18:43.062956Z",
     "start_time": "2025-01-26T14:18:43.020985Z"
    }
   },
   "source": [
    "from torchvision import transforms, datasets\n",
    "from torch.utils.data import DataLoader\n",
    "from torch.optim import Adam\n",
    "import matplotlib.pyplot as plt\n",
    "import torch\n",
    "import torch.nn as nn\n",
    "\n",
    "device = torch.device(\"cuda:0\" if torch.cuda.is_available() else \"cpu\")\n",
    "transform = transforms.Compose([\n",
    "    transforms.ToTensor(),\n",
    "\n",
    "    transforms.Normalize(mean=0.1307, std=0.3081)\n",
    "\n",
    "])\n",
    "train_dataset = datasets.MNIST(root='../dataset', train=True, download=True, transform=transform)\n",
    "train_dataloader = DataLoader(train_dataset, batch_size=64, shuffle=True)\n",
    "\n",
    "test_dataset = datasets.MNIST(root='../dataset', train=False, download=True, transform=transform)\n",
    "test_dataloader = DataLoader(test_dataset, batch_size=64, shuffle=False)"
   ],
   "outputs": [],
   "execution_count": 45
  },
  {
   "metadata": {
    "ExecuteTime": {
     "end_time": "2025-01-26T14:18:43.074828Z",
     "start_time": "2025-01-26T14:18:43.062956Z"
    }
   },
   "cell_type": "code",
   "source": [
    "def init_weights(m):\n",
    "    if isinstance(m, (nn.Linear, nn.Conv2d,nn.ConvTranspose2d)):\n",
    "        nn.init.kaiming_normal_(m.weight,mode='fan_out',nonlinearity='relu')\n",
    "        if m.bias is not None:\n",
    "            nn.init.constant_(m.bias, 0.01)\n",
    "\n",
    "\n",
    "#这里使用池化层进行下采样并且使用全局平均池化来得到最终答案，激活函数使用relu，并且添加批归一化层(这个东西是会学习参数的)来确保数值更加稳定。\n",
    "class Net(nn.Module):\n",
    "    def __init__(self):\n",
    "        super(Net,self).__init__()\n",
    "        self.conv1 = nn.Conv2d(in_channels=1,out_channels=10,kernel_size=3,stride=1,padding=1)\n",
    "        self.pool1 = nn.MaxPool2d(kernel_size=2, stride=2)\n",
    "        self.conv2 = nn.Conv2d(in_channels=10,out_channels=5,kernel_size=3,stride=1,padding=1)\n",
    "        self.pool2 = nn.AvgPool2d(kernel_size=2, stride=2)\n",
    "        self.conv3 = nn.Conv2d(in_channels=5,out_channels=10,kernel_size=3,stride=1,padding=1)\n",
    "        self.pool3 = nn.AdaptiveAvgPool2d(1)\n",
    "        self.relu = nn.ReLU()\n",
    "        self.bn1 = nn.BatchNorm2d(10)\n",
    "        self.bn2 = nn.BatchNorm2d(5)\n",
    "        self.bn3 = nn.BatchNorm2d(10)\n",
    "\n",
    "    def forward(self,x):\n",
    "        x = self.relu(self.bn1(self.conv1(x)))\n",
    "        x = self.pool1(x)\n",
    "        x = self.relu(self.bn2(self.conv2(x)))\n",
    "        x = self.pool2(x)\n",
    "        x = self.relu(self.bn3(self.conv3(x)))\n",
    "        x = self.pool3(x)\n",
    "        x = x.view(x.size(0), -1).contiguous()\n",
    "        return x\n",
    "model = Net()\n",
    "model = model.apply(init_weights)\n",
    "model = model.to(device)\n"
   ],
   "id": "e118bfb51a2aa495",
   "outputs": [],
   "execution_count": 46
  },
  {
   "metadata": {
    "ExecuteTime": {
     "end_time": "2025-01-26T14:18:43.087878Z",
     "start_time": "2025-01-26T14:18:43.084442Z"
    }
   },
   "cell_type": "code",
   "source": [
    "optimizer = Adam(model.parameters(), lr=0.001)\n",
    "criterion = nn.CrossEntropyLoss()"
   ],
   "id": "e447bdc6fbd19d46",
   "outputs": [],
   "execution_count": 47
  },
  {
   "metadata": {
    "ExecuteTime": {
     "end_time": "2025-01-26T14:18:43.103965Z",
     "start_time": "2025-01-26T14:18:43.097282Z"
    }
   },
   "cell_type": "code",
   "source": [
    "def train(num_epochs):\n",
    "    model.train()\n",
    "    losses = []\n",
    "    epoches = torch.arange(1, num_epochs+1)\n",
    "\n",
    "    for epoch in range(num_epochs):\n",
    "        running_loss = 0.0\n",
    "        total = 0\n",
    "        correct = 0\n",
    "        for idx, (x,y) in enumerate(train_dataloader):\n",
    "            optimizer.zero_grad()\n",
    "            x,y = x.to(device), y.to(device)\n",
    "            y_pred = model(x)\n",
    "            loss = criterion(y_pred, y)\n",
    "\n",
    "            loss.backward()\n",
    "            optimizer.step()\n",
    "            running_loss += loss.item()*x.size(0)\n",
    "            total += y.size(0)\n",
    "            correct += (y_pred.argmax(dim=1) == y).sum().item()\n",
    "            if (idx+1) % 100 == 0:\n",
    "                print(f\"Epoch [{epoch+1}/{num_epochs}],Batches[{idx+1}/{len(train_dataloader)}], Loss: {running_loss/((idx+1)*(x.size(0))):.3f} , Accuracy: {(100*correct/total):.2f}%\")\n",
    "        losses.append(running_loss/len(train_dataloader.dataset))\n",
    "        print(f\"第{epoch+1}轮的训练精度为：{(100*correct/total):.2f}%\\n\")\n",
    "    plt.plot(epoches, losses)\n",
    "    plt.xlabel(\"Epoch\")\n",
    "    plt.ylabel(\"Loss\")\n",
    "    plt.show()\n",
    "\n",
    "\n",
    "def test(model):\n",
    "    model.eval()  # 设置模型为评估模式\n",
    "    correct = 0\n",
    "    total = 0\n",
    "\n",
    "    with torch.no_grad():  # 不计算梯度\n",
    "        for images, labels in test_dataloader:\n",
    "            images, labels = images.to(device), labels.to(device)\n",
    "\n",
    "            outputs = model(images)\n",
    "            _, predicted = torch.max(outputs.data, 1)  # 获取预测结果\n",
    "            total += labels.size(0)\n",
    "            correct += (predicted == labels).sum().item()\n",
    "\n",
    "    print(f'Test Accuracy: {100 * correct / total:.2f}%')"
   ],
   "id": "4e18d84d6e0f1476",
   "outputs": [],
   "execution_count": 48
  },
  {
   "metadata": {
    "ExecuteTime": {
     "end_time": "2025-01-26T14:22:44.682719Z",
     "start_time": "2025-01-26T14:18:43.123300Z"
    }
   },
   "cell_type": "code",
   "source": [
    "if __name__ == '__main__':\n",
    "    num_epochs = 10\n",
    "    train(num_epochs)\n",
    "    test(model)\n"
   ],
   "id": "95b3a86b5d2df224",
   "outputs": [
    {
     "name": "stdout",
     "output_type": "stream",
     "text": [
      "Epoch [1/10],Batches[100/938], Loss: 2.213 , Accuracy: 29.19%\n",
      "Epoch [1/10],Batches[200/938], Loss: 2.127 , Accuracy: 36.48%\n",
      "Epoch [1/10],Batches[300/938], Loss: 2.050 , Accuracy: 40.81%\n",
      "Epoch [1/10],Batches[400/938], Loss: 1.985 , Accuracy: 43.54%\n",
      "Epoch [1/10],Batches[500/938], Loss: 1.930 , Accuracy: 45.61%\n",
      "Epoch [1/10],Batches[600/938], Loss: 1.881 , Accuracy: 47.57%\n",
      "Epoch [1/10],Batches[700/938], Loss: 1.838 , Accuracy: 49.40%\n",
      "Epoch [1/10],Batches[800/938], Loss: 1.799 , Accuracy: 50.91%\n",
      "Epoch [1/10],Batches[900/938], Loss: 1.765 , Accuracy: 52.30%\n",
      "第1轮的训练精度为：52.83%\n",
      "\n",
      "Epoch [2/10],Batches[100/938], Loss: 1.431 , Accuracy: 67.39%\n",
      "Epoch [2/10],Batches[200/938], Loss: 1.402 , Accuracy: 68.73%\n",
      "Epoch [2/10],Batches[300/938], Loss: 1.384 , Accuracy: 69.49%\n",
      "Epoch [2/10],Batches[400/938], Loss: 1.364 , Accuracy: 70.05%\n",
      "Epoch [2/10],Batches[500/938], Loss: 1.345 , Accuracy: 70.70%\n",
      "Epoch [2/10],Batches[600/938], Loss: 1.324 , Accuracy: 71.34%\n",
      "Epoch [2/10],Batches[700/938], Loss: 1.308 , Accuracy: 71.85%\n",
      "Epoch [2/10],Batches[800/938], Loss: 1.292 , Accuracy: 72.30%\n",
      "Epoch [2/10],Batches[900/938], Loss: 1.274 , Accuracy: 73.02%\n",
      "第2轮的训练精度为：73.23%\n",
      "\n",
      "Epoch [3/10],Batches[100/938], Loss: 1.111 , Accuracy: 78.44%\n",
      "Epoch [3/10],Batches[200/938], Loss: 1.091 , Accuracy: 79.41%\n",
      "Epoch [3/10],Batches[300/938], Loss: 1.079 , Accuracy: 79.71%\n",
      "Epoch [3/10],Batches[400/938], Loss: 1.066 , Accuracy: 80.16%\n",
      "Epoch [3/10],Batches[500/938], Loss: 1.053 , Accuracy: 80.43%\n",
      "Epoch [3/10],Batches[600/938], Loss: 1.041 , Accuracy: 80.79%\n",
      "Epoch [3/10],Batches[700/938], Loss: 1.029 , Accuracy: 81.02%\n",
      "Epoch [3/10],Batches[800/938], Loss: 1.017 , Accuracy: 81.23%\n",
      "Epoch [3/10],Batches[900/938], Loss: 1.006 , Accuracy: 81.44%\n",
      "第3轮的训练精度为：81.48%\n",
      "\n",
      "Epoch [4/10],Batches[100/938], Loss: 0.898 , Accuracy: 83.78%\n",
      "Epoch [4/10],Batches[200/938], Loss: 0.886 , Accuracy: 83.89%\n",
      "Epoch [4/10],Batches[300/938], Loss: 0.876 , Accuracy: 83.89%\n",
      "Epoch [4/10],Batches[400/938], Loss: 0.869 , Accuracy: 84.04%\n",
      "Epoch [4/10],Batches[500/938], Loss: 0.862 , Accuracy: 84.17%\n",
      "Epoch [4/10],Batches[600/938], Loss: 0.854 , Accuracy: 84.34%\n",
      "Epoch [4/10],Batches[700/938], Loss: 0.848 , Accuracy: 84.40%\n",
      "Epoch [4/10],Batches[800/938], Loss: 0.842 , Accuracy: 84.51%\n",
      "Epoch [4/10],Batches[900/938], Loss: 0.834 , Accuracy: 84.61%\n",
      "第4轮的训练精度为：84.67%\n",
      "\n",
      "Epoch [5/10],Batches[100/938], Loss: 0.764 , Accuracy: 86.03%\n",
      "Epoch [5/10],Batches[200/938], Loss: 0.756 , Accuracy: 86.16%\n",
      "Epoch [5/10],Batches[300/938], Loss: 0.752 , Accuracy: 86.04%\n",
      "Epoch [5/10],Batches[400/938], Loss: 0.746 , Accuracy: 86.05%\n",
      "Epoch [5/10],Batches[500/938], Loss: 0.741 , Accuracy: 86.07%\n",
      "Epoch [5/10],Batches[600/938], Loss: 0.734 , Accuracy: 86.23%\n",
      "Epoch [5/10],Batches[700/938], Loss: 0.728 , Accuracy: 86.29%\n",
      "Epoch [5/10],Batches[800/938], Loss: 0.722 , Accuracy: 86.48%\n",
      "Epoch [5/10],Batches[900/938], Loss: 0.718 , Accuracy: 86.49%\n",
      "第5轮的训练精度为：86.52%\n",
      "\n",
      "Epoch [6/10],Batches[100/938], Loss: 0.654 , Accuracy: 87.81%\n",
      "Epoch [6/10],Batches[200/938], Loss: 0.658 , Accuracy: 87.49%\n",
      "Epoch [6/10],Batches[300/938], Loss: 0.659 , Accuracy: 87.39%\n",
      "Epoch [6/10],Batches[400/938], Loss: 0.653 , Accuracy: 87.49%\n",
      "Epoch [6/10],Batches[500/938], Loss: 0.650 , Accuracy: 87.52%\n",
      "Epoch [6/10],Batches[600/938], Loss: 0.646 , Accuracy: 87.56%\n",
      "Epoch [6/10],Batches[700/938], Loss: 0.642 , Accuracy: 87.60%\n",
      "Epoch [6/10],Batches[800/938], Loss: 0.639 , Accuracy: 87.63%\n",
      "Epoch [6/10],Batches[900/938], Loss: 0.637 , Accuracy: 87.66%\n",
      "第6轮的训练精度为：87.66%\n",
      "\n",
      "Epoch [7/10],Batches[100/938], Loss: 0.603 , Accuracy: 88.03%\n",
      "Epoch [7/10],Batches[200/938], Loss: 0.585 , Accuracy: 88.61%\n",
      "Epoch [7/10],Batches[300/938], Loss: 0.586 , Accuracy: 88.61%\n",
      "Epoch [7/10],Batches[400/938], Loss: 0.584 , Accuracy: 88.59%\n",
      "Epoch [7/10],Batches[500/938], Loss: 0.583 , Accuracy: 88.55%\n",
      "Epoch [7/10],Batches[600/938], Loss: 0.579 , Accuracy: 88.64%\n",
      "Epoch [7/10],Batches[700/938], Loss: 0.576 , Accuracy: 88.73%\n",
      "Epoch [7/10],Batches[800/938], Loss: 0.573 , Accuracy: 88.82%\n",
      "Epoch [7/10],Batches[900/938], Loss: 0.571 , Accuracy: 88.81%\n",
      "第7轮的训练精度为：88.76%\n",
      "\n",
      "Epoch [8/10],Batches[100/938], Loss: 0.544 , Accuracy: 88.95%\n",
      "Epoch [8/10],Batches[200/938], Loss: 0.537 , Accuracy: 89.18%\n",
      "Epoch [8/10],Batches[300/938], Loss: 0.541 , Accuracy: 88.97%\n",
      "Epoch [8/10],Batches[400/938], Loss: 0.533 , Accuracy: 89.29%\n",
      "Epoch [8/10],Batches[500/938], Loss: 0.531 , Accuracy: 89.35%\n",
      "Epoch [8/10],Batches[600/938], Loss: 0.529 , Accuracy: 89.30%\n",
      "Epoch [8/10],Batches[700/938], Loss: 0.527 , Accuracy: 89.41%\n",
      "Epoch [8/10],Batches[800/938], Loss: 0.526 , Accuracy: 89.40%\n",
      "Epoch [8/10],Batches[900/938], Loss: 0.523 , Accuracy: 89.46%\n",
      "第8轮的训练精度为：89.48%\n",
      "\n",
      "Epoch [9/10],Batches[100/938], Loss: 0.484 , Accuracy: 90.34%\n",
      "Epoch [9/10],Batches[200/938], Loss: 0.495 , Accuracy: 89.89%\n",
      "Epoch [9/10],Batches[300/938], Loss: 0.491 , Accuracy: 89.98%\n",
      "Epoch [9/10],Batches[400/938], Loss: 0.487 , Accuracy: 90.19%\n",
      "Epoch [9/10],Batches[500/938], Loss: 0.486 , Accuracy: 90.18%\n",
      "Epoch [9/10],Batches[600/938], Loss: 0.487 , Accuracy: 90.15%\n",
      "Epoch [9/10],Batches[700/938], Loss: 0.486 , Accuracy: 90.17%\n",
      "Epoch [9/10],Batches[800/938], Loss: 0.483 , Accuracy: 90.16%\n",
      "Epoch [9/10],Batches[900/938], Loss: 0.482 , Accuracy: 90.14%\n",
      "第9轮的训练精度为：90.17%\n",
      "\n",
      "Epoch [10/10],Batches[100/938], Loss: 0.447 , Accuracy: 90.72%\n",
      "Epoch [10/10],Batches[200/938], Loss: 0.454 , Accuracy: 90.76%\n",
      "Epoch [10/10],Batches[300/938], Loss: 0.454 , Accuracy: 90.79%\n",
      "Epoch [10/10],Batches[400/938], Loss: 0.452 , Accuracy: 90.73%\n",
      "Epoch [10/10],Batches[500/938], Loss: 0.451 , Accuracy: 90.65%\n",
      "Epoch [10/10],Batches[600/938], Loss: 0.451 , Accuracy: 90.70%\n",
      "Epoch [10/10],Batches[700/938], Loss: 0.450 , Accuracy: 90.74%\n",
      "Epoch [10/10],Batches[800/938], Loss: 0.449 , Accuracy: 90.70%\n",
      "Epoch [10/10],Batches[900/938], Loss: 0.447 , Accuracy: 90.70%\n",
      "第10轮的训练精度为：90.70%\n",
      "\n"
     ]
    },
    {
     "data": {
      "text/plain": [
       "<Figure size 640x480 with 1 Axes>"
      ],
      "image/png": "[encoded data removed]"
     },
     "metadata": {},
     "output_type": "display_data"
    },
    {
     "name": "stdout",
     "output_type": "stream",
     "text": [
      "Test Accuracy: 91.92%\n"
     ]
    }
   ],
   "execution_count": 49
  }
 ],
 "metadata": {
  "kernelspec": {
   "display_name": "Python 3",
   "language": "python",
   "name": "python3"
  },
  "language_info": {
   "codemirror_mode": {
    "name": "ipython",
    "version": 2
   },
   "file_extension": ".py",
   "mimetype": "text/x-python",
   "name": "python",
   "nbconvert_exporter": "python",
   "pygments_lexer": "ipython2",
   "version": "2.7.6"
  }
 },
 "nbformat": 4,
 "nbformat_minor": 5
}
