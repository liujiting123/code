{
 "cells": [
  {
   "cell_type": "code",
   "id": "initial_id",
   "metadata": {
    "collapsed": true,
    "ExecuteTime": {
     "end_time": "2025-02-05T11:39:26.069869Z",
     "start_time": "2025-02-05T11:39:26.053834Z"
    }
   },
   "source": [
    "import torch\n",
    "import torch.nn as nn\n",
    "from torch.optim import Adam\n",
    "import matplotlib.pyplot as plt\n",
    "device = torch.device(\"cuda:0\" if torch.cuda.is_available() else \"cpu\")\n"
   ],
   "outputs": [],
   "execution_count": 23
  },
  {
   "metadata": {},
   "cell_type": "markdown",
   "source": "Dense层的设置",
   "id": "c42ca2b390a81487"
  },
  {
   "metadata": {
    "ExecuteTime": {
     "end_time": "2025-02-05T11:39:27.492Z",
     "start_time": "2025-02-05T11:39:27.476015Z"
    }
   },
   "cell_type": "code",
   "source": [
    "class DenseLayer(nn.Module):\n",
    "    def __init__(self, in_channels, growth_rate,drop_rate=0.3):\n",
    "        super(DenseLayer, self).__init__()\n",
    "        self.conv = nn.Conv2d(in_channels, growth_rate, kernel_size=3, padding=1)\n",
    "        self.bn = nn.BatchNorm2d(growth_rate)\n",
    "        self.relu = nn.ReLU(inplace=True)\n",
    "        self.dropout = nn.Dropout2d(drop_rate)\n",
    "        self.residual = nn.Conv2d(growth_rate, growth_rate, kernel_size=5, padding=2)\n",
    "\n",
    "    def forward(self, x):\n",
    "        x = self.conv(x)\n",
    "        x = self.bn(x)\n",
    "        x = self.relu(x)\n",
    "        x = self.dropout(x)\n",
    "        x = x+ self.residual(x)\n",
    "\n",
    "        return x\n",
    "\n",
    "class DenseBlock(nn.Module):\n",
    "    def __init__(self, in_channels, growth_rate, num_layers ):\n",
    "        super(DenseBlock, self).__init__()\n",
    "        layers = []\n",
    "        for i in range(num_layers):\n",
    "            layers.append(DenseLayer(in_channels + i * growth_rate, growth_rate))\n",
    "\n",
    "        self.layers = nn.ModuleList(layers)\n",
    "\n",
    "    def forward(self, x):\n",
    "        features = [x]\n",
    "        for layer in self.layers:\n",
    "            new_features = layer(torch.cat(features, dim=1))\n",
    "            features.append(new_features)\n",
    "\n",
    "        return torch.cat(features, dim=1)"
   ],
   "id": "13de9fd80b27f56c",
   "outputs": [],
   "execution_count": 24
  },
  {
   "metadata": {},
   "cell_type": "markdown",
   "source": "Transition层加了一点残差链接和dp",
   "id": "ff2a24ddaf1e0de1"
  },
  {
   "metadata": {
    "ExecuteTime": {
     "end_time": "2025-02-05T11:39:27.507676Z",
     "start_time": "2025-02-05T11:39:27.492Z"
    }
   },
   "cell_type": "code",
   "source": [
    "class Transition(nn.Module):\n",
    "    def __init__(self, in_channels, out_channels):\n",
    "        super(Transition, self).__init__()\n",
    "        self.conv = nn.Conv2d(in_channels, out_channels, kernel_size=1)\n",
    "        self.residual = nn.Conv2d(out_channels, out_channels, kernel_size=3, padding=1)\n",
    "\n",
    "        self.pool = nn.MaxPool2d(kernel_size=2, stride=2)\n",
    "        self.dropout = nn.Dropout2d(0.3)\n",
    "        self.relu = nn.ReLU(inplace=True)\n",
    "\n",
    "    def forward(self, x):\n",
    "        x = self.conv(x)\n",
    "        x= self.relu(x)\n",
    "        x = self.residual(x)\n",
    "        x= self.relu(x)\n",
    "        x = self.dropout(x)\n",
    "        x = self.pool(x)\n",
    "        return x\n",
    "\n"
   ],
   "id": "ca6782c5449d9a01",
   "outputs": [],
   "execution_count": 25
  },
  {
   "metadata": {
    "ExecuteTime": {
     "end_time": "2025-02-05T11:39:28.911552Z",
     "start_time": "2025-02-05T11:39:28.895488Z"
    }
   },
   "cell_type": "code",
   "source": "",
   "id": "3df5ccb829a31150",
   "outputs": [],
   "execution_count": null
  },
  {
   "metadata": {},
   "cell_type": "markdown",
   "source": "最终的模型",
   "id": "21cebacbe8af4391"
  },
  {
   "metadata": {
    "ExecuteTime": {
     "end_time": "2025-02-05T11:39:30.440784Z",
     "start_time": "2025-02-05T11:39:30.299386Z"
    }
   },
   "cell_type": "code",
   "source": [
    "\n",
    "\n",
    "class DenseNet(nn.Module):\n",
    "    def __init__(self, in_channels=4, growth_rate=32,  drop_rate=0.1):\n",
    "        super(DenseNet, self).__init__()\n",
    "        self.initial = nn.Sequential(\n",
    "            nn.Conv2d(in_channels, 64, kernel_size=7, padding=3,stride=2,bias=False),  #16*4*128*128\n",
    "            nn.BatchNorm2d(64),\n",
    "            nn.ReLU(inplace=True),\n",
    "            nn.MaxPool2d(kernel_size=3, stride=2,padding=1),  #16*64*64*64\n",
    "        )\n",
    "        self.dense1 = DenseBlock(64, growth_rate, 6)  #16*256*64*64\n",
    "        self.transition1 = Transition(256, 128)   #16*128*32*32\n",
    "        self.dense2 = DenseBlock(128, growth_rate, 12) #16*512*32*32\n",
    "        self.transition2 = Transition(512,256)  #16*256*16*16\n",
    "        self.dense3 = DenseBlock(256, growth_rate, 12) #16*640*32*32\n",
    "        self.adaptivate = nn.AdaptiveAvgPool2d((1,1))\n",
    "        self.linear =nn.Sequential( nn.Linear(640, 20) )\n",
    "\n",
    "    def forward(self, x):\n",
    "        x = self.initial(x)\n",
    "        x = self.dense1(x)\n",
    "        x = self.transition1(x)\n",
    "        x = self.dense2(x)\n",
    "        x = self.transition2(x)\n",
    "        x = self.dense3(x)\n",
    "        x = self.adaptivate(x)\n",
    "        x = x.view(x.size(0), -1).contiguous()\n",
    "\n",
    "        x = self.linear(x)\n",
    "        return x\n",
    "\n",
    "def init_weights(m):\n",
    "    if isinstance(m, (nn.Conv2d, nn.Linear)):\n",
    "        nn.init.xavier_uniform_(m.weight)\n",
    "        if m.bias is not None:\n",
    "            m.bias.data.zero_()\n",
    "model = DenseNet()\n",
    "model.to(device)\n",
    "\n",
    "state_dict = torch.load('model_params.pth')\n",
    "\n",
    "model.load_state_dict(state_dict,strict=False)"
   ],
   "id": "1e50c4dd6c9f53d2",
   "outputs": [
    {
     "name": "stderr",
     "output_type": "stream",
     "text": [
      "C:\\Users\\LiuJiTing\\AppData\\Local\\Temp\\ipykernel_17020\\3504306550.py:39: FutureWarning: You are using `torch.load` with `weights_only=False` (the current default value), which uses the default pickle module implicitly. It is possible to construct malicious pickle data which will execute arbitrary code during unpickling (See https://github.com/pytorch/pytorch/blob/main/SECURITY.md#untrusted-models for more details). In a future release, the default value for `weights_only` will be flipped to `True`. This limits the functions that could be executed during unpickling. Arbitrary objects will no longer be allowed to be loaded via this mode unless they are explicitly allowlisted by the user via `torch.serialization.add_safe_globals`. We recommend you start setting `weights_only=True` for any use case where you don't have full control of the loaded file. Please open an issue on GitHub for any issues related to this experimental feature.\n",
      "  state_dict = torch.load('model_params.pth')\n"
     ]
    },
    {
     "data": {
      "text/plain": [
       "<All keys matched successfully>"
      ]
     },
     "execution_count": 26,
     "metadata": {},
     "output_type": "execute_result"
    }
   ],
   "execution_count": 26
  },
  {
   "metadata": {},
   "cell_type": "markdown",
   "source": "数据处理，这里要更改逻辑",
   "id": "70ac520253ace2"
  },
  {
   "metadata": {
    "ExecuteTime": {
     "end_time": "2025-02-05T11:39:31.764351Z",
     "start_time": "2025-02-05T11:39:31.746228Z"
    }
   },
   "cell_type": "code",
   "source": [
    "from torch.utils.data import Dataset, DataLoader, random_split\n",
    "from PIL import Image\n",
    "import os\n",
    "from torchvision import transforms\n",
    "\n",
    "# 定义训练集和验证集的变换\n",
    "train_transform = transforms.Compose([\n",
    "    transforms.Resize((256, 256)),\n",
    "    transforms.ColorJitter(brightness=0.4, contrast=0.4, saturation=0.4,hue=0.2),\n",
    "    transforms.RandomHorizontalFlip(),  # 随机水平翻转，作为数据增强的一种方式\n",
    "    transforms.RandomRotation(10),  # 随机旋转10度\n",
    "    transforms.ToTensor(),\n",
    "])\n",
    "\n",
    "val_transform = transforms.Compose([\n",
    "    transforms.Resize((256, 256)),\n",
    "    transforms.ToTensor(),\n",
    "])\n",
    "\n",
    "# 自定义 Dataset 类，不包含 transform 逻辑\n",
    "class CustomDataset(Dataset):\n",
    "    def __init__(self, root_dir):\n",
    "        self.root_dir = root_dir\n",
    "        self.labels = os.listdir(root_dir)\n",
    "        self.img_paths = []\n",
    "\n",
    "        # 遍历每个类别目录并收集样本\n",
    "        for label_idx, label_name in enumerate(self.labels):\n",
    "            class_dir = os.path.join(root_dir, label_name)\n",
    "            for img_name in os.listdir(class_dir):\n",
    "                self.img_paths.append((\n",
    "                    os.path.join(class_dir, img_name),\n",
    "                    label_idx\n",
    "                ))\n",
    "\n",
    "    def __getitem__(self, index):\n",
    "        img_path, label = self.img_paths[index]\n",
    "        img = Image.open(img_path).convert('RGBA')\n",
    "        return img, label  # 不在此处应用 transform\n",
    "\n",
    "    def __len__(self):\n",
    "        return len(self.img_paths)\n",
    "\n",
    "# Transform 包装类，动态应用不同的预处理\n",
    "class TransformDataset(Dataset):\n",
    "    def __init__(self, dataset, transform=None):\n",
    "        self.dataset = dataset\n",
    "        self.transform = transform\n",
    "\n",
    "    def __getitem__(self, index):\n",
    "        img, label = self.dataset[index]\n",
    "        if self.transform:\n",
    "            img = self.transform(img)\n",
    "        return img, label\n",
    "\n",
    "    def __len__(self):\n",
    "        return len(self.dataset)\n",
    "\n",
    "# 创建原始数据集（无Transform）\n",
    "full_dataset = CustomDataset(root_dir='../../acu_dataset')\n",
    "\n",
    "# 划分数据集\n",
    "train_size = int(0.7 * len(full_dataset))\n",
    "val_size = int(0.2 * len(full_dataset))\n",
    "test_size = len(full_dataset) - train_size - val_size\n",
    "train_sub, val_sub, test_sub = random_split(\n",
    "    full_dataset, [train_size, val_size, test_size]\n",
    ")\n",
    "\n",
    "# 为各子集应用对应的Transform\n",
    "train_dataset = TransformDataset(train_sub, transform=train_transform)\n",
    "val_dataset = TransformDataset(val_sub, transform=val_transform)\n",
    "test_dataset = TransformDataset(test_sub, transform=val_transform)\n",
    "\n",
    "# 创建 DataLoader\n",
    "train_dataloader = DataLoader(train_dataset, batch_size=32, shuffle=True)\n",
    "val_dataloader = DataLoader(val_dataset, batch_size=32, shuffle=False)\n",
    "test_dataloader = DataLoader(test_dataset, batch_size=32, shuffle=False)"
   ],
   "id": "627c259a9bd84bec",
   "outputs": [],
   "execution_count": 27
  },
  {
   "metadata": {
    "ExecuteTime": {
     "end_time": "2025-02-05T11:39:33.193143Z",
     "start_time": "2025-02-05T11:39:33.177269Z"
    }
   },
   "cell_type": "code",
   "source": "a = iter(train_dataloader)",
   "id": "7ced0fb38069ac41",
   "outputs": [],
   "execution_count": 28
  },
  {
   "metadata": {},
   "cell_type": "markdown",
   "source": "损失函数和优化器",
   "id": "e0e0861f34222d6f"
  },
  {
   "metadata": {
    "ExecuteTime": {
     "end_time": "2025-02-05T11:47:17.343889Z",
     "start_time": "2025-02-05T11:47:17.327932Z"
    }
   },
   "cell_type": "code",
   "source": [
    "optimizer = Adam(model.parameters(),lr = 0.001,weight_decay=0)\n",
    "criterion = nn.CrossEntropyLoss()"
   ],
   "id": "aaa928e7c3f9fdf4",
   "outputs": [],
   "execution_count": 35
  },
  {
   "metadata": {},
   "cell_type": "markdown",
   "source": "训练函数",
   "id": "47b8bc3d90eaddb7"
  },
  {
   "metadata": {
    "ExecuteTime": {
     "end_time": "2025-02-05T11:39:36.090054Z",
     "start_time": "2025-02-05T11:39:36.070493Z"
    }
   },
   "cell_type": "code",
   "source": [
    "from torch.amp import autocast, GradScaler\n",
    "\n",
    "scaler = GradScaler()\n",
    "\n",
    "def train(num_epochs):\n",
    "    model.train()\n",
    "\n",
    "    losses = []\n",
    "    epoches = torch.arange(1, num_epochs + 1)\n",
    "\n",
    "    for epoch in range(num_epochs):\n",
    "        running_loss = 0.0\n",
    "        total = 0\n",
    "        correct = 0\n",
    "        for idx, (x, y) in enumerate(train_dataloader):\n",
    "            optimizer.zero_grad()\n",
    "            x, y = x.to(device), y.to(device)\n",
    "\n",
    "            with autocast('cuda'):  # 混合精度\n",
    "                y_pred = model(x)\n",
    "                loss = criterion(y_pred, y)\n",
    "\n",
    "            scaler.scale(loss).backward()\n",
    "            scaler.step(optimizer)\n",
    "            scaler.update()\n",
    "            running_loss += loss.item() * x.size(0)\n",
    "            total += y.size(0)\n",
    "            correct += (y_pred.argmax(dim=1) == y).sum().item()\n",
    "            if (idx + 1) % 10 == 0:\n",
    "                print(\n",
    "                    f\"Epoch [{epoch + 1}/{num_epochs}],Batches[{idx + 1}/{len(train_dataloader)}], Loss: {running_loss / ((idx + 1) * (x.size(0))):.3f} , Accuracy: {(100 * correct / total):.2f}%\")\n",
    "        losses.append(running_loss / len(train_dataloader.dataset))\n",
    "        print(f\"第{epoch + 1}轮的训练精度为：{(100 * correct / total):.2f}%\\n\")\n",
    "    plt.plot(epoches, losses)\n",
    "    plt.xlabel(\"Epoch\")\n",
    "    plt.ylabel(\"Loss\")\n",
    "    plt.show()\n",
    "\n",
    "\n",
    "def val():\n",
    "    model.eval()  # 设置模型为评估模式\n",
    "    correct = 0\n",
    "    total = 0\n",
    "\n",
    "    with torch.no_grad():  # 不计算梯度\n",
    "        for images, labels in val_dataloader:\n",
    "            images, labels = images.to(device), labels.to(device)\n",
    "\n",
    "            outputs = model(images)\n",
    "            _, predicted = torch.max(outputs.data, 1)  # 获取预测结果\n",
    "            total += labels.size(0)\n",
    "            correct += (predicted == labels).sum().item()\n",
    "\n",
    "    print(f'Validation Accuracy: {100 * correct / total:.2f}%')\n",
    "\n",
    "def test():\n",
    "    model.eval()  # 设置模型为评估模式\n",
    "    correct = 0\n",
    "    total = 0\n",
    "\n",
    "    with torch.no_grad():  # 不计算梯度\n",
    "        for images, labels in test_dataloader:\n",
    "            images, labels = images.to(device), labels.to(device)\n",
    "\n",
    "            outputs = model(images)\n",
    "            _, predicted = torch.max(outputs.data, 1)  # 获取预测结果\n",
    "            total += labels.size(0)\n",
    "            correct += (predicted == labels).sum().item()\n",
    "\n",
    "    print(f'Test Accuracy: {100 * correct / total:.2f}%')"
   ],
   "id": "4fffd6a84dea7b19",
   "outputs": [],
   "execution_count": 30
  },
  {
   "metadata": {},
   "cell_type": "markdown",
   "source": "调用函数开始训练",
   "id": "b33e83d9657dc6fa"
  },
  {
   "metadata": {
    "ExecuteTime": {
     "end_time": "2025-02-05T11:53:15.974313Z",
     "start_time": "2025-02-05T11:47:22.464660Z"
    }
   },
   "cell_type": "code",
   "source": "train(10)",
   "id": "6ad346e9084326bf",
   "outputs": [
    {
     "name": "stdout",
     "output_type": "stream",
     "text": [
      "Epoch [1/10],Batches[10/55], Loss: 1.095 , Accuracy: 65.31%\n",
      "Epoch [1/10],Batches[20/55], Loss: 1.118 , Accuracy: 66.72%\n",
      "Epoch [1/10],Batches[30/55], Loss: 1.149 , Accuracy: 66.56%\n",
      "Epoch [1/10],Batches[40/55], Loss: 1.126 , Accuracy: 66.88%\n",
      "Epoch [1/10],Batches[50/55], Loss: 1.106 , Accuracy: 67.75%\n",
      "第1轮的训练精度为：67.94%\n",
      "\n",
      "Epoch [2/10],Batches[10/55], Loss: 0.948 , Accuracy: 70.31%\n",
      "Epoch [2/10],Batches[20/55], Loss: 0.930 , Accuracy: 72.66%\n",
      "Epoch [2/10],Batches[30/55], Loss: 0.954 , Accuracy: 72.08%\n",
      "Epoch [2/10],Batches[40/55], Loss: 0.941 , Accuracy: 72.34%\n",
      "Epoch [2/10],Batches[50/55], Loss: 0.943 , Accuracy: 72.06%\n",
      "第2轮的训练精度为：71.53%\n",
      "\n",
      "Epoch [3/10],Batches[10/55], Loss: 1.039 , Accuracy: 68.44%\n",
      "Epoch [3/10],Batches[20/55], Loss: 1.019 , Accuracy: 69.06%\n",
      "Epoch [3/10],Batches[30/55], Loss: 1.037 , Accuracy: 69.17%\n",
      "Epoch [3/10],Batches[40/55], Loss: 1.061 , Accuracy: 68.59%\n",
      "Epoch [3/10],Batches[50/55], Loss: 1.035 , Accuracy: 69.38%\n",
      "第3轮的训练精度为：69.82%\n",
      "\n",
      "Epoch [4/10],Batches[10/55], Loss: 0.932 , Accuracy: 70.94%\n",
      "Epoch [4/10],Batches[20/55], Loss: 0.960 , Accuracy: 73.28%\n",
      "Epoch [4/10],Batches[30/55], Loss: 0.960 , Accuracy: 73.02%\n",
      "Epoch [4/10],Batches[40/55], Loss: 0.976 , Accuracy: 72.03%\n",
      "Epoch [4/10],Batches[50/55], Loss: 0.985 , Accuracy: 71.38%\n",
      "第4轮的训练精度为：71.58%\n",
      "\n",
      "Epoch [5/10],Batches[10/55], Loss: 0.878 , Accuracy: 70.31%\n",
      "Epoch [5/10],Batches[20/55], Loss: 0.949 , Accuracy: 70.00%\n",
      "Epoch [5/10],Batches[30/55], Loss: 0.934 , Accuracy: 71.46%\n",
      "Epoch [5/10],Batches[40/55], Loss: 0.931 , Accuracy: 71.25%\n",
      "Epoch [5/10],Batches[50/55], Loss: 0.917 , Accuracy: 71.25%\n",
      "第5轮的训练精度为：70.67%\n",
      "\n",
      "Epoch [6/10],Batches[10/55], Loss: 0.910 , Accuracy: 73.12%\n",
      "Epoch [6/10],Batches[20/55], Loss: 0.946 , Accuracy: 71.25%\n",
      "Epoch [6/10],Batches[30/55], Loss: 0.941 , Accuracy: 72.50%\n",
      "Epoch [6/10],Batches[40/55], Loss: 0.951 , Accuracy: 71.17%\n",
      "Epoch [6/10],Batches[50/55], Loss: 0.965 , Accuracy: 70.31%\n",
      "第6轮的训练精度为：70.90%\n",
      "\n",
      "Epoch [7/10],Batches[10/55], Loss: 0.966 , Accuracy: 66.25%\n",
      "Epoch [7/10],Batches[20/55], Loss: 0.909 , Accuracy: 71.09%\n",
      "Epoch [7/10],Batches[30/55], Loss: 0.917 , Accuracy: 71.04%\n",
      "Epoch [7/10],Batches[40/55], Loss: 0.904 , Accuracy: 71.48%\n",
      "Epoch [7/10],Batches[50/55], Loss: 0.913 , Accuracy: 71.69%\n",
      "第7轮的训练精度为：71.24%\n",
      "\n",
      "Epoch [8/10],Batches[10/55], Loss: 0.920 , Accuracy: 72.50%\n",
      "Epoch [8/10],Batches[20/55], Loss: 0.918 , Accuracy: 72.19%\n",
      "Epoch [8/10],Batches[30/55], Loss: 0.919 , Accuracy: 71.67%\n",
      "Epoch [8/10],Batches[40/55], Loss: 0.901 , Accuracy: 71.25%\n",
      "Epoch [8/10],Batches[50/55], Loss: 0.912 , Accuracy: 71.06%\n",
      "第8轮的训练精度为：71.07%\n",
      "\n",
      "Epoch [9/10],Batches[10/55], Loss: 0.928 , Accuracy: 70.00%\n",
      "Epoch [9/10],Batches[20/55], Loss: 0.918 , Accuracy: 70.31%\n",
      "Epoch [9/10],Batches[30/55], Loss: 0.934 , Accuracy: 70.42%\n",
      "Epoch [9/10],Batches[40/55], Loss: 0.985 , Accuracy: 69.14%\n",
      "Epoch [9/10],Batches[50/55], Loss: 0.961 , Accuracy: 70.19%\n",
      "第9轮的训练精度为：70.27%\n",
      "\n",
      "Epoch [10/10],Batches[10/55], Loss: 0.822 , Accuracy: 77.19%\n",
      "Epoch [10/10],Batches[20/55], Loss: 0.822 , Accuracy: 75.00%\n",
      "Epoch [10/10],Batches[30/55], Loss: 0.830 , Accuracy: 73.54%\n",
      "Epoch [10/10],Batches[40/55], Loss: 0.836 , Accuracy: 73.36%\n",
      "Epoch [10/10],Batches[50/55], Loss: 0.839 , Accuracy: 73.25%\n",
      "第10轮的训练精度为：72.84%\n",
      "\n"
     ]
    },
    {
     "data": {
      "text/plain": [
       "<Figure size 640x480 with 1 Axes>"
      ],
      "image/png": "[encoded data removed]"
     },
     "metadata": {},
     "output_type": "display_data"
    }
   ],
   "execution_count": 36
  },
  {
   "metadata": {
    "ExecuteTime": {
     "end_time": "2025-02-05T11:53:31.181563Z",
     "start_time": "2025-02-05T11:53:21.434885Z"
    }
   },
   "cell_type": "code",
   "source": [
    "val()\n",
    "test()"
   ],
   "id": "af5e4b6326ec626d",
   "outputs": [
    {
     "name": "stdout",
     "output_type": "stream",
     "text": [
      "Validation Accuracy: 74.05%\n",
      "Test Accuracy: 69.44%\n"
     ]
    }
   ],
   "execution_count": 37
  },
  {
   "metadata": {
    "ExecuteTime": {
     "end_time": "2025-02-05T11:53:31.229384Z",
     "start_time": "2025-02-05T11:53:31.192134Z"
    }
   },
   "cell_type": "code",
   "source": "torch.save(model.state_dict(), 'model_params.pth')",
   "id": "4925a076408712e1",
   "outputs": [],
   "execution_count": 38
  }
 ],
 "metadata": {
  "kernelspec": {
   "display_name": "Python 3",
   "language": "python",
   "name": "python3"
  },
  "language_info": {
   "codemirror_mode": {
    "name": "ipython",
    "version": 2
   },
   "file_extension": ".py",
   "mimetype": "text/x-python",
   "name": "python",
   "nbconvert_exporter": "python",
   "pygments_lexer": "ipython2",
   "version": "2.7.6"
  }
 },
 "nbformat": 4,
 "nbformat_minor": 5
}
