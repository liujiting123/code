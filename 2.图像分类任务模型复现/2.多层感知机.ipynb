{
 "cells": [
  {
   "metadata": {},
   "cell_type": "code",
   "outputs": [],
   "execution_count": null,
   "source": [
    "\"\"\"\n",
    "一旦不进行归一化，这个数据就会非常逆天。但是进行了归一化……也是反方向的逆天了\n",
    "\"\"\""
   ],
   "id": "47c93473aac79378"
  },
  {
   "cell_type": "code",
   "id": "initial_id",
   "metadata": {
    "collapsed": true,
    "ExecuteTime": {
     "end_time": "2025-01-24T15:32:55.011741Z",
     "start_time": "2025-01-24T15:32:55.000493Z"
    }
   },
   "source": [
    "import torch\n",
    "import torch.nn as nn\n",
    "from torch.utils.data import DataLoader, TensorDataset\n",
    "from torch.optim import Adam\n",
    "device = torch.device(\"cuda:0\" if torch.cuda.is_available() else \"cpu\")\n",
    "import matplotlib.pyplot as plt"
   ],
   "outputs": [],
   "execution_count": 126
  },
  {
   "metadata": {
    "ExecuteTime": {
     "end_time": "2025-01-24T15:32:55.023906Z",
     "start_time": "2025-01-24T15:32:55.013763Z"
    }
   },
   "cell_type": "code",
   "source": [
    "x = torch.linspace(0, 1000, 10000).unsqueeze(1)#+torch.Tensor(np.random.randn(10000,1))\n",
    "y = torch.logspace(0, 3, 10000).unsqueeze(1)\n",
    "print(f\"x.shape: {x.shape}, y.shape: {y.shape}\")"
   ],
   "id": "2f0393fe7c179a6f",
   "outputs": [
    {
     "name": "stdout",
     "output_type": "stream",
     "text": [
      "x.shape: torch.Size([10000, 1]), y.shape: torch.Size([10000, 1])\n"
     ]
    }
   ],
   "execution_count": 127
  },
  {
   "metadata": {
    "ExecuteTime": {
     "end_time": "2025-01-24T15:32:55.063916Z",
     "start_time": "2025-01-24T15:32:55.058082Z"
    }
   },
   "cell_type": "code",
   "source": [
    "x_train = x.clone()[0:6000]\n",
    "y_train = y.clone()[0:6000]\n",
    "x_test = x.clone()[6000:]\n",
    "y_test = y.clone()[6000:]\n",
    "train_data = DataLoader(TensorDataset(x_train, y_train), batch_size=10, shuffle=False,drop_last=True)\n",
    "test_data = DataLoader(TensorDataset(x_test, y_test), batch_size=10, shuffle=False,drop_last=True)"
   ],
   "id": "fbff888898a15f84",
   "outputs": [],
   "execution_count": 128
  },
  {
   "metadata": {
    "ExecuteTime": {
     "end_time": "2025-01-24T15:32:55.078425Z",
     "start_time": "2025-01-24T15:32:55.072038Z"
    }
   },
   "cell_type": "code",
   "source": [
    "class Net(nn.Module):\n",
    "    def __init__(self):\n",
    "        super(Net,self).__init__()\n",
    "        self.fc1 = nn.Linear(1,10)\n",
    "        self.fc2 = nn.Linear(10,5)\n",
    "        self.fc3 = nn.Linear(5,1)\n",
    "        self.relu = nn.ReLU()\n",
    "    def forward(self, x):\n",
    "        x = self.relu(self.fc1(x))\n",
    "        x = self.relu(self.fc2(x))\n",
    "        x = self.fc3(x)\n",
    "        return x\n",
    "model = Net()\n",
    "model = model.to(device)"
   ],
   "id": "d0812c8900e2f315",
   "outputs": [],
   "execution_count": 129
  },
  {
   "metadata": {
    "ExecuteTime": {
     "end_time": "2025-01-24T15:32:55.092158Z",
     "start_time": "2025-01-24T15:32:55.084356Z"
    }
   },
   "cell_type": "code",
   "source": [
    "criterion = nn.MSELoss()\n",
    "optimizer = Adam(model.parameters(), lr=0.001)"
   ],
   "id": "43f82b275547ead9",
   "outputs": [],
   "execution_count": 130
  },
  {
   "metadata": {
    "ExecuteTime": {
     "end_time": "2025-01-24T15:32:55.104646Z",
     "start_time": "2025-01-24T15:32:55.098177Z"
    }
   },
   "cell_type": "code",
   "source": [
    "def train(num_epochs):\n",
    "    model.train()\n",
    "    losses = []\n",
    "    epoches = torch.arange(1, num_epochs+1)\n",
    "    for epoch in range(num_epochs):\n",
    "        running_loss = 0.0\n",
    "        for idx, (x,y) in enumerate(train_data):\n",
    "            optimizer.zero_grad()\n",
    "            x,y = x.to(device), y.to(device)\n",
    "            x_min, x_max = x.min(), x.max()\n",
    "            y_min, y_max = y.min(), y.max()\n",
    "            x = (x - x_min) / (x_max - x_min)\n",
    "            y = (y - y_min) / (y_max - y_min)\n",
    "            y_pred = model(x)\n",
    "            loss = criterion(y_pred, y)\n",
    "\n",
    "            loss.backward()\n",
    "            optimizer.step()\n",
    "            running_loss += loss.item()*x.size(0)\n",
    "            if (idx+1) % 100 == 0:\n",
    "                print(f\"Epoch [{epoch+1}/{num_epochs}],Batches[{idx+1}/{len(train_data)}], Loss: {running_loss/(idx+1):.3f}\")\n",
    "        losses.append(running_loss/len(train_data.dataset))\n",
    "    plt.plot(epoches, losses)\n",
    "    plt.xlabel(\"Epoch\")\n",
    "    plt.ylabel(\"Loss\")\n",
    "    plt.show()\n",
    "\n",
    "def test():\n",
    "    model.eval()\n",
    "    running_loss = 0.0\n",
    "    with torch.no_grad():\n",
    "        for idx, (x,y) in enumerate(test_data):\n",
    "            x, y = x.to(device), y.to(device)\n",
    "            x_min, x_max = x.min(), x.max()\n",
    "            y_min, y_max = y.min(), y.max()\n",
    "            x = (x - x_min) / (x_max - x_min)\n",
    "            y = (y - y_min) / (y_max - y_min)\n",
    "            y_pred = model(x)\n",
    "            loss = criterion(y_pred, y)\n",
    "            running_loss += loss.item()\n",
    "        avg_loss = running_loss/len(test_data.dataset)\n",
    "        print(f\"Test Loss: {avg_loss:.3f}\")\n"
   ],
   "id": "5cba295f2c58a491",
   "outputs": [],
   "execution_count": 131
  },
  {
   "metadata": {
    "ExecuteTime": {
     "end_time": "2025-01-24T15:33:03.021910Z",
     "start_time": "2025-01-24T15:32:55.118081Z"
    }
   },
   "cell_type": "code",
   "source": [
    "if __name__ == \"__main__\":\n",
    "    num_epochs = 10\n",
    "    train(num_epochs)\n",
    "    test()"
   ],
   "id": "2cee059b2a20e0a7",
   "outputs": [
    {
     "name": "stdout",
     "output_type": "stream",
     "text": [
      "Epoch [1/10],Batches[100/600], Loss: 0.889\n",
      "Epoch [1/10],Batches[200/600], Loss: 0.627\n",
      "Epoch [1/10],Batches[300/600], Loss: 0.434\n",
      "Epoch [1/10],Batches[400/600], Loss: 0.325\n",
      "Epoch [1/10],Batches[500/600], Loss: 0.260\n",
      "Epoch [1/10],Batches[600/600], Loss: 0.217\n",
      "Epoch [2/10],Batches[100/600], Loss: 0.000\n",
      "Epoch [2/10],Batches[200/600], Loss: 0.000\n",
      "Epoch [2/10],Batches[300/600], Loss: 0.000\n",
      "Epoch [2/10],Batches[400/600], Loss: 0.000\n",
      "Epoch [2/10],Batches[500/600], Loss: 0.000\n",
      "Epoch [2/10],Batches[600/600], Loss: 0.000\n",
      "Epoch [3/10],Batches[100/600], Loss: 0.000\n",
      "Epoch [3/10],Batches[200/600], Loss: 0.000\n",
      "Epoch [3/10],Batches[300/600], Loss: 0.000\n",
      "Epoch [3/10],Batches[400/600], Loss: 0.000\n",
      "Epoch [3/10],Batches[500/600], Loss: 0.000\n",
      "Epoch [3/10],Batches[600/600], Loss: 0.000\n",
      "Epoch [4/10],Batches[100/600], Loss: 0.000\n",
      "Epoch [4/10],Batches[200/600], Loss: 0.000\n",
      "Epoch [4/10],Batches[300/600], Loss: 0.000\n",
      "Epoch [4/10],Batches[400/600], Loss: 0.000\n",
      "Epoch [4/10],Batches[500/600], Loss: 0.000\n",
      "Epoch [4/10],Batches[600/600], Loss: 0.000\n",
      "Epoch [5/10],Batches[100/600], Loss: 0.000\n",
      "Epoch [5/10],Batches[200/600], Loss: 0.000\n",
      "Epoch [5/10],Batches[300/600], Loss: 0.000\n",
      "Epoch [5/10],Batches[400/600], Loss: 0.000\n",
      "Epoch [5/10],Batches[500/600], Loss: 0.000\n",
      "Epoch [5/10],Batches[600/600], Loss: 0.000\n",
      "Epoch [6/10],Batches[100/600], Loss: 0.000\n",
      "Epoch [6/10],Batches[200/600], Loss: 0.000\n",
      "Epoch [6/10],Batches[300/600], Loss: 0.000\n",
      "Epoch [6/10],Batches[400/600], Loss: 0.000\n",
      "Epoch [6/10],Batches[500/600], Loss: 0.000\n",
      "Epoch [6/10],Batches[600/600], Loss: 0.000\n",
      "Epoch [7/10],Batches[100/600], Loss: 0.000\n",
      "Epoch [7/10],Batches[200/600], Loss: 0.000\n",
      "Epoch [7/10],Batches[300/600], Loss: 0.000\n",
      "Epoch [7/10],Batches[400/600], Loss: 0.000\n",
      "Epoch [7/10],Batches[500/600], Loss: 0.000\n",
      "Epoch [7/10],Batches[600/600], Loss: 0.000\n",
      "Epoch [8/10],Batches[100/600], Loss: 0.000\n",
      "Epoch [8/10],Batches[200/600], Loss: 0.000\n",
      "Epoch [8/10],Batches[300/600], Loss: 0.000\n",
      "Epoch [8/10],Batches[400/600], Loss: 0.000\n",
      "Epoch [8/10],Batches[500/600], Loss: 0.000\n",
      "Epoch [8/10],Batches[600/600], Loss: 0.000\n",
      "Epoch [9/10],Batches[100/600], Loss: 0.000\n",
      "Epoch [9/10],Batches[200/600], Loss: 0.000\n",
      "Epoch [9/10],Batches[300/600], Loss: 0.000\n",
      "Epoch [9/10],Batches[400/600], Loss: 0.000\n",
      "Epoch [9/10],Batches[500/600], Loss: 0.000\n",
      "Epoch [9/10],Batches[600/600], Loss: 0.000\n",
      "Epoch [10/10],Batches[100/600], Loss: 0.000\n",
      "Epoch [10/10],Batches[200/600], Loss: 0.000\n",
      "Epoch [10/10],Batches[300/600], Loss: 0.000\n",
      "Epoch [10/10],Batches[400/600], Loss: 0.000\n",
      "Epoch [10/10],Batches[500/600], Loss: 0.000\n",
      "Epoch [10/10],Batches[600/600], Loss: 0.000\n"
     ]
    },
    {
     "data": {
      "text/plain": [
       "<Figure size 640x480 with 1 Axes>"
      ],
      "image/png": "[encoded data removed]"
     },
     "metadata": {},
     "output_type": "display_data"
    },
    {
     "name": "stdout",
     "output_type": "stream",
     "text": [
      "Test Loss: 0.000\n"
     ]
    }
   ],
   "execution_count": 132
  }
 ],
 "metadata": {
  "kernelspec": {
   "display_name": "Python 3",
   "language": "python",
   "name": "python3"
  },
  "language_info": {
   "codemirror_mode": {
    "name": "ipython",
    "version": 2
   },
   "file_extension": ".py",
   "mimetype": "text/x-python",
   "name": "python",
   "nbconvert_exporter": "python",
   "pygments_lexer": "ipython2",
   "version": "2.7.6"
  }
 },
 "nbformat": 4,
 "nbformat_minor": 5
}
