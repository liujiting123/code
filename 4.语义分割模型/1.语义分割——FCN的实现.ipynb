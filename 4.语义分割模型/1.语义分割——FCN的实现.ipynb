{
 "cells": [
  {
   "cell_type": "code",
   "id": "initial_id",
   "metadata": {
    "collapsed": true,
    "ExecuteTime": {
     "end_time": "2025-02-04T06:58:59.493123Z",
     "start_time": "2025-02-04T06:58:31.895542Z"
    }
   },
   "source": [
    "import torch\n",
    "import torch.nn as nn\n",
    "import torchvision\n",
    "import matplotlib.pyplot as plt\n",
    "device = torch.device(\"cuda:0\" if torch.cuda.is_available() else \"cpu\")\n",
    "from torchvision import datasets,transforms"
   ],
   "outputs": [],
   "execution_count": 1
  },
  {
   "metadata": {
    "ExecuteTime": {
     "end_time": "2025-02-04T06:58:59.816890Z",
     "start_time": "2025-02-04T06:58:59.784835Z"
    }
   },
   "cell_type": "code",
   "source": [
    "transform = transforms.Compose([transforms.ToTensor(),\n",
    "                                transforms.CenterCrop((500,281)),\n",
    "                                transforms.Normalize(mean=[0.485, 0.456, 0.406],std=[0.229, 0.224, 0.225])])\n",
    "\n",
    "target_transform = transforms.Compose([transforms.ToTensor(),\n",
    "                                       transforms.CenterCrop((500,281)),])\n",
    "train_set = datasets.VOCSegmentation(year='2007', image_set='trainval', root='../dataset',download=False,transform=transform,target_transform=target_transform)\n",
    "test_set = datasets.VOCSegmentation(year='2007', image_set='test', root='../dataset',download=False,transform=transform,target_transform=target_transform)\n",
    "train_loader = torch.utils.data.DataLoader(train_set, batch_size=8, shuffle=True)\n",
    "test_loader = torch.utils.data.DataLoader(test_set, batch_size=8, shuffle=False)\n",
    "print(len(train_loader))"
   ],
   "id": "8d11692684fda74e",
   "outputs": [
    {
     "name": "stdout",
     "output_type": "stream",
     "text": [
      "53\n"
     ]
    }
   ],
   "execution_count": 2
  },
  {
   "metadata": {
    "ExecuteTime": {
     "end_time": "2025-02-04T06:58:59.927500Z",
     "start_time": "2025-02-04T06:58:59.828758Z"
    }
   },
   "cell_type": "code",
   "source": [
    "class FCN(nn.Module):\n",
    "    def __init__(self):\n",
    "        super(FCN,self).__init__()\n",
    "        self.block1 = nn.Sequential(\n",
    "            nn.Conv2d(in_channels=3,out_channels=64,kernel_size=3,stride=1,padding=1),\n",
    "            nn.ReLU(),\n",
    "            nn.MaxPool2d(2,2),\n",
    "        )\n",
    "        self.block2 = nn.Sequential(\n",
    "            nn.Conv2d(in_channels=64,out_channels=128,kernel_size=3,stride=1,padding=1),\n",
    "            nn.ReLU(),\n",
    "            nn.AvgPool2d(2,2),\n",
    "        )\n",
    "        self.block3 = nn.Sequential(\n",
    "            nn.Conv2d(in_channels=128,out_channels=256,kernel_size=3,stride=1,padding=1),\n",
    "            nn.ReLU(),\n",
    "            nn.MaxPool2d(2,2),\n",
    "        )\n",
    "        self.block4 = nn.Sequential(\n",
    "            nn.Conv2d(in_channels=256,out_channels=512,kernel_size=3,stride=1,padding=1),\n",
    "            nn.ReLU(),\n",
    "            nn.AvgPool2d(2,2),\n",
    "        )\n",
    "        self.transvonv = nn.Sequential(\n",
    "            nn.ConvTranspose2d(in_channels=512,out_channels=256,kernel_size=2,stride=2),\n",
    "            nn.ReLU(),\n",
    "\n",
    "            nn.ConvTranspose2d(in_channels=256,out_channels=128,kernel_size=2,stride=2),\n",
    "            nn.ReLU(),\n",
    "\n",
    "            nn.ConvTranspose2d(in_channels=128,out_channels=64,kernel_size=2,stride=2),\n",
    "            nn.ReLU(),\n",
    "\n",
    "            nn.ConvTranspose2d(in_channels=64,out_channels=32,kernel_size=2,stride=2),\n",
    "            nn.ReLU(),\n",
    "\n",
    "            nn.ConvTranspose2d(in_channels=32,out_channels=16,kernel_size=(5,10),stride=1),\n",
    "            nn.ReLU(),\n",
    "\n",
    "            nn.Conv2d(in_channels=16,out_channels=21,kernel_size=1),\n",
    "        )\n",
    "\n",
    "    def forward(self, x):\n",
    "        out = self.block1(x)\n",
    "        out = self.block2(out)\n",
    "        out = self.block3(out)\n",
    "        out = self.block4(out)\n",
    "        out = self.transvonv(out)\n",
    "        return out\n",
    "\n",
    "model = FCN()\n",
    "def weights_init(m):\n",
    "    if isinstance(m, nn.Conv2d):\n",
    "        nn.init.xavier_uniform_(m.weight)\n",
    "model.apply(weights_init)\n",
    "model.to(device)"
   ],
   "id": "8bc00855fc2b3003",
   "outputs": [
    {
     "data": {
      "text/plain": [
       "FCN(\n",
       "  (block1): Sequential(\n",
       "    (0): Conv2d(3, 64, kernel_size=(3, 3), stride=(1, 1), padding=(1, 1))\n",
       "    (1): ReLU()\n",
       "    (2): MaxPool2d(kernel_size=2, stride=2, padding=0, dilation=1, ceil_mode=False)\n",
       "  )\n",
       "  (block2): Sequential(\n",
       "    (0): Conv2d(64, 128, kernel_size=(3, 3), stride=(1, 1), padding=(1, 1))\n",
       "    (1): ReLU()\n",
       "    (2): AvgPool2d(kernel_size=2, stride=2, padding=0)\n",
       "  )\n",
       "  (block3): Sequential(\n",
       "    (0): Conv2d(128, 256, kernel_size=(3, 3), stride=(1, 1), padding=(1, 1))\n",
       "    (1): ReLU()\n",
       "    (2): MaxPool2d(kernel_size=2, stride=2, padding=0, dilation=1, ceil_mode=False)\n",
       "  )\n",
       "  (block4): Sequential(\n",
       "    (0): Conv2d(256, 512, kernel_size=(3, 3), stride=(1, 1), padding=(1, 1))\n",
       "    (1): ReLU()\n",
       "    (2): AvgPool2d(kernel_size=2, stride=2, padding=0)\n",
       "  )\n",
       "  (transvonv): Sequential(\n",
       "    (0): ConvTranspose2d(512, 256, kernel_size=(2, 2), stride=(2, 2))\n",
       "    (1): ReLU()\n",
       "    (2): ConvTranspose2d(256, 128, kernel_size=(2, 2), stride=(2, 2))\n",
       "    (3): ReLU()\n",
       "    (4): ConvTranspose2d(128, 64, kernel_size=(2, 2), stride=(2, 2))\n",
       "    (5): ReLU()\n",
       "    (6): ConvTranspose2d(64, 32, kernel_size=(2, 2), stride=(2, 2))\n",
       "    (7): ReLU()\n",
       "    (8): ConvTranspose2d(32, 16, kernel_size=(5, 10), stride=(1, 1))\n",
       "    (9): ReLU()\n",
       "    (10): Conv2d(16, 21, kernel_size=(1, 1), stride=(1, 1))\n",
       "  )\n",
       ")"
      ]
     },
     "execution_count": 3,
     "metadata": {},
     "output_type": "execute_result"
    }
   ],
   "execution_count": 3
  },
  {
   "metadata": {
    "ExecuteTime": {
     "end_time": "2025-02-04T06:58:59.959343Z",
     "start_time": "2025-02-04T06:58:59.943351Z"
    }
   },
   "cell_type": "code",
   "source": [
    "criterion = nn.CrossEntropyLoss()\n",
    "optimizer = torch.optim.Adam(model.parameters(), lr=0.001)"
   ],
   "id": "8a1b9f8e3704816d",
   "outputs": [],
   "execution_count": 4
  },
  {
   "metadata": {
    "ExecuteTime": {
     "end_time": "2025-02-04T06:58:59.991198Z",
     "start_time": "2025-02-04T06:58:59.975387Z"
    }
   },
   "cell_type": "code",
   "source": [
    "\n",
    "def train(num_epochs):\n",
    "    model.train()\n",
    "    losses = []\n",
    "    epoches = list(torch.arange(1, num_epochs + 1))\n",
    "    for epoch in range(num_epochs):\n",
    "        running_loss = 0.0\n",
    "        total = 0\n",
    "        correct = 0\n",
    "        for idx, (x, y) in enumerate(train_loader):\n",
    "            optimizer.zero_grad()\n",
    "            x, y = x.to(device), y.to(device).squeeze(1).long()\n",
    "            y_pred = model(x)\n",
    "            loss = criterion(y_pred, y)\n",
    "\n",
    "            loss.backward()\n",
    "            optimizer.step()\n",
    "            running_loss += loss.item() * x.size(0)\n",
    "            \n",
    "            total += torch.numel(y)\n",
    "            correct += (y_pred.argmax(dim=1) == y).sum().item()\n",
    "            if (idx + 1) % 20 == 0:\n",
    "                print(\n",
    "                    f\"Epoch [{epoch + 1}/{num_epochs}],Batches[{idx + 1}/{len(train_loader)}], Loss: {running_loss / ((idx + 1) * (x.size(0))):.3f} , Accuracy: {(100 * correct / total):.2f}%\")\n",
    "        losses.append(running_loss / len(train_loader.dataset))\n",
    "        print(f\"第{epoch + 1}轮的训练精度为：{(100 * correct / total):.2f}%\\n\")\n",
    "\n",
    "    plt.plot(epoches, losses)\n",
    "    plt.xlabel(\"Epoch\")\n",
    "    plt.ylabel(\"Loss\")\n",
    "    plt.show()\n",
    "\n",
    "def test():\n",
    "    model.eval()  # 设置模型为评估模式\n",
    "    correct = 0\n",
    "    total = 0\n",
    "\n",
    "    with torch.no_grad():  # 不计算梯度\n",
    "        for images, labels in test_loader:\n",
    "            images, labels = images.to(device), labels.to(device).squeeze(1).long()\n",
    "\n",
    "            outputs = model(images)\n",
    "            _, predicted = torch.max(outputs.data, 1)  # 获取预测结果\n",
    "            total += torch.numel(labels)\n",
    "            correct += (predicted == labels).sum().item()\n",
    "\n",
    "    print(f'Test Accuracy: {100 * correct / total:.2f}%')\n",
    "\n",
    "\n"
   ],
   "id": "25e29bf3183e7e4e",
   "outputs": [],
   "execution_count": 5
  },
  {
   "metadata": {
    "jupyter": {
     "is_executing": true
    },
    "ExecuteTime": {
     "start_time": "2025-02-04T06:59:00.006875Z"
    }
   },
   "cell_type": "code",
   "source": [
    "\n",
    "    train(1)\n",
    "    test()\n"
   ],
   "id": "b5562be11a69e983",
   "outputs": [
    {
     "name": "stdout",
     "output_type": "stream",
     "text": [
      "Epoch [1/1],Batches[20/53], Loss: 1.399 , Accuracy: 71.73%\n",
      "Epoch [1/1],Batches[40/53], Loss: 0.846 , Accuracy: 83.85%\n",
      "第1轮的训练精度为：86.70%\n",
      "\n"
     ]
    }
   ],
   "execution_count": null
  }
 ],
 "metadata": {
  "kernelspec": {
   "display_name": "Python 3",
   "language": "python",
   "name": "python3"
  },
  "language_info": {
   "codemirror_mode": {
    "name": "ipython",
    "version": 2
   },
   "file_extension": ".py",
   "mimetype": "text/x-python",
   "name": "python",
   "nbconvert_exporter": "python",
   "pygments_lexer": "ipython2",
   "version": "2.7.6"
  }
 },
 "nbformat": 4,
 "nbformat_minor": 5
}
