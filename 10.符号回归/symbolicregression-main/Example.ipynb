{
 "cells": [
  {
   "cell_type": "code",
   "id": "3bf3ccd4-bd5a-4b9b-896c-fb97393263c9",
   "metadata": {
    "ExecuteTime": {
     "end_time": "2025-03-22T07:14:10.479636Z",
     "start_time": "2025-03-22T07:14:03.168591Z"
    }
   },
   "source": [
    "import torch\n",
    "import numpy as np\n",
    "import sympy as sp\n",
    "import os, sys\n",
    "import symbolicregression\n",
    "import requests\n",
    "from IPython.display import display\n"
   ],
   "outputs": [],
   "execution_count": 1
  },
  {
   "cell_type": "code",
   "id": "52a6b685-a1ed-4cb5-975d-f1bd316ec778",
   "metadata": {
    "ExecuteTime": {
     "end_time": "2025-03-22T07:14:21.177469Z",
     "start_time": "2025-03-22T07:14:13.038037Z"
    }
   },
   "source": [
    "model_path = \"model.pt\" \n",
    "try:\n",
    "    if not os.path.isfile(model_path): \n",
    "        url = \"https://dl.fbaipublicfiles.com/symbolicregression/model1.pt\"\n",
    "        r = requests.get(url, allow_redirects=True)\n",
    "        open(model_path, 'wb').write(r.content)\n",
    "    if not torch.cuda.is_available():\n",
    "        model = torch.load(model_path, map_location=torch.device('cpu'))\n",
    "    else:\n",
    "        model = torch.load(model_path)\n",
    "        model = model.cuda()\n",
    "    print(model.device)\n",
    "    print(\"Model successfully loaded!\")\n",
    "\n",
    "except Exception as e:\n",
    "    print(\"ERROR: model not loaded! path was: {}\".format(model_path))\n",
    "    print(e)    "
   ],
   "outputs": [
    {
     "name": "stdout",
     "output_type": "stream",
     "text": [
      "ERROR: model not loaded! path was: model.pt\n",
      "No module named 'sklearn'\n"
     ]
    },
    {
     "name": "stderr",
     "output_type": "stream",
     "text": [
      "C:\\Users\\LiuJiTing\\AppData\\Local\\Temp\\ipykernel_18800\\534102503.py:10: FutureWarning: You are using `torch.load` with `weights_only=False` (the current default value), which uses the default pickle module implicitly. It is possible to construct malicious pickle data which will execute arbitrary code during unpickling (See https://github.com/pytorch/pytorch/blob/main/SECURITY.md#untrusted-models for more details). In a future release, the default value for `weights_only` will be flipped to `True`. This limits the functions that could be executed during unpickling. Arbitrary objects will no longer be allowed to be loaded via this mode unless they are explicitly allowlisted by the user via `torch.serialization.add_safe_globals`. We recommend you start setting `weights_only=True` for any use case where you don't have full control of the loaded file. Please open an issue on GitHub for any issues related to this experimental feature.\n",
      "  model = torch.load(model_path)\n"
     ]
    }
   ],
   "execution_count": 2
  },
  {
   "cell_type": "code",
   "id": "cb5ebd8c-235e-4051-87a4-acbafadf937c",
   "metadata": {
    "ExecuteTime": {
     "end_time": "2025-03-22T07:14:31.903062Z",
     "start_time": "2025-03-22T07:14:31.539944Z"
    }
   },
   "source": [
    "est = symbolicregression.model.SymbolicTransformerRegressor(\n",
    "                        model=model,\n",
    "                        max_input_points=200,\n",
    "                        n_trees_to_refine=100,\n",
    "                        rescale=True\n",
    "                        )"
   ],
   "outputs": [
    {
     "ename": "AttributeError",
     "evalue": "module 'symbolicregression' has no attribute 'model'",
     "output_type": "error",
     "traceback": [
      "\u001B[1;31m---------------------------------------------------------------------------\u001B[0m",
      "\u001B[1;31mAttributeError\u001B[0m                            Traceback (most recent call last)",
      "Cell \u001B[1;32mIn[3], line 1\u001B[0m\n\u001B[1;32m----> 1\u001B[0m est \u001B[38;5;241m=\u001B[39m \u001B[43msymbolicregression\u001B[49m\u001B[38;5;241;43m.\u001B[39;49m\u001B[43mmodel\u001B[49m\u001B[38;5;241m.\u001B[39mSymbolicTransformerRegressor(\n\u001B[0;32m      2\u001B[0m                         model\u001B[38;5;241m=\u001B[39mmodel,\n\u001B[0;32m      3\u001B[0m                         max_input_points\u001B[38;5;241m=\u001B[39m\u001B[38;5;241m200\u001B[39m,\n\u001B[0;32m      4\u001B[0m                         n_trees_to_refine\u001B[38;5;241m=\u001B[39m\u001B[38;5;241m100\u001B[39m,\n\u001B[0;32m      5\u001B[0m                         rescale\u001B[38;5;241m=\u001B[39m\u001B[38;5;28;01mTrue\u001B[39;00m\n\u001B[0;32m      6\u001B[0m                         )\n",
      "\u001B[1;31mAttributeError\u001B[0m: module 'symbolicregression' has no attribute 'model'"
     ]
    }
   ],
   "execution_count": 3
  },
  {
   "cell_type": "code",
   "execution_count": 4,
   "id": "f539c7ed-29e3-453a-b226-09dfab999fec",
   "metadata": {},
   "outputs": [],
   "source": [
    "##Example of data\n",
    "\n",
    "x = np.random.randn(100, 2)\n",
    "y = np.cos(2*np.pi*x[:,0])+x[:,1]**2\n"
   ]
  },
  {
   "cell_type": "code",
   "execution_count": 5,
   "id": "c699a062-41e6-4747-87ce-1e75a2496b74",
   "metadata": {},
   "outputs": [
    {
     "data": {
      "text/latex": [
       "$\\displaystyle \\left(0.01853679426581665 x_{1} - 0.001264960006558277\\right) \\left(51.62497203029936 x_{1} + 3.5920863817351986\\right) + 0.9800000000000001 \\cos{\\left(6.3434837205966536 x_{0} + 0.300277996019414 \\right)} + 0.01$"
      ],
      "text/plain": [
       "(0.01853679426581665*x_1 - 0.001264960006558277)*(51.62497203029936*x_1 + 3.5920863817351986) + 0.9800000000000001*cos(6.3434837205966536*x_0 + 0.300277996019414) + 0.01"
      ]
     },
     "metadata": {},
     "output_type": "display_data"
    }
   ],
   "source": [
    "est.fit(x,y)\n",
    "replace_ops = {\"add\": \"+\", \"mul\": \"*\", \"sub\": \"-\", \"pow\": \"**\", \"inv\": \"1/\"}\n",
    "model_str = est.retrieve_tree(with_infos=True)[\"relabed_predicted_tree\"].infix()\n",
    "for op,replace_op in replace_ops.items():\n",
    "    model_str = model_str.replace(op,replace_op)\n",
    "display(sp.parse_expr(model_str))"
   ]
  }
 ],
 "metadata": {
  "kernelspec": {
   "display_name": "Python 3",
   "language": "python",
   "name": "python3"
  },
  "language_info": {
   "codemirror_mode": {
    "name": "ipython",
    "version": 3
   },
   "file_extension": ".py",
   "mimetype": "text/x-python",
   "name": "python",
   "nbconvert_exporter": "python",
   "pygments_lexer": "ipython3",
   "version": "3.7.12"
  }
 },
 "nbformat": 4,
 "nbformat_minor": 5
}
