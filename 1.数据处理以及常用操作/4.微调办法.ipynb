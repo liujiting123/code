{
 "cells": [
  {
   "cell_type": "code",
   "id": "initial_id",
   "metadata": {
    "collapsed": true,
    "ExecuteTime": {
     "end_time": "2025-02-01T02:05:31.783755Z",
     "start_time": "2025-02-01T02:05:25.751916Z"
    }
   },
   "source": [
    "import torch.nn as nn\n",
    "import torch\n",
    "import torchvision.transforms as transforms"
   ],
   "outputs": [],
   "execution_count": 2
  },
  {
   "metadata": {
    "ExecuteTime": {
     "end_time": "2025-02-01T02:05:31.808443Z",
     "start_time": "2025-02-01T02:05:31.787666Z"
    }
   },
   "cell_type": "code",
   "source": [
    "class Model(nn.Module):\n",
    "    def __init__(self):\n",
    "        super(Model,self).__init__()\n",
    "        self.block1 = nn.Sequential(\n",
    "            nn.Conv2d(in_channels=3, out_channels=16, kernel_size=3, stride=1, padding=1),nn.ReLU(),\n",
    "            nn.Conv2d(in_channels=16, out_channels=16, kernel_size=1),nn.ReLU(),\n",
    "            nn.Conv2d(in_channels=16, out_channels=16, kernel_size=1),nn.ReLU(),\n",
    "        )\n",
    "        self.block2 = nn.Sequential(\n",
    "            nn.Conv2d(in_channels=3, out_channels=16, kernel_size=3, stride=1, padding=1),nn.ReLU(),\n",
    "            nn.Conv2d(in_channels=16, out_channels=16, kernel_size=1),nn.ReLU(),\n",
    "            nn.Conv2d(in_channels=16, out_channels=16, kernel_size=1),nn.ReLU(),)\n",
    "        self.pool1 = nn.MaxPool2d(kernel_size=3, stride=2)\n",
    "        self.pool2 = nn.MaxPool2d(kernel_size=3, stride=2)\n",
    "        self.avg_pool = nn.AdaptiveAvgPool2d((1,1))\n",
    "\n",
    "    def forward(self, x):\n",
    "        x = self.block1(x)\n",
    "        x = self.pool1(x)\n",
    "        x = self.block2(x)\n",
    "        x = self.pool2(x)\n",
    "        x = self.avg_pool(x)\n",
    "        x = x.view(x.size(0), -1).contiguous()\n",
    "        return x\n",
    "\n",
    "model = Model()\n",
    "for name,layer in model.named_children():\n",
    "    print(f\"name: {name}, layer: {layer}\")\n",
    "\n",
    "for name, param in model.named_parameters():\n",
    "    print(f\"name: {name}\")"
   ],
   "id": "1c663427c3526428",
   "outputs": [
    {
     "name": "stdout",
     "output_type": "stream",
     "text": [
      "name: block1, layer: Sequential(\n",
      "  (0): Conv2d(3, 16, kernel_size=(3, 3), stride=(1, 1), padding=(1, 1))\n",
      "  (1): ReLU()\n",
      "  (2): Conv2d(16, 16, kernel_size=(1, 1), stride=(1, 1))\n",
      "  (3): ReLU()\n",
      "  (4): Conv2d(16, 16, kernel_size=(1, 1), stride=(1, 1))\n",
      "  (5): ReLU()\n",
      ")\n",
      "name: block2, layer: Sequential(\n",
      "  (0): Conv2d(3, 16, kernel_size=(3, 3), stride=(1, 1), padding=(1, 1))\n",
      "  (1): ReLU()\n",
      "  (2): Conv2d(16, 16, kernel_size=(1, 1), stride=(1, 1))\n",
      "  (3): ReLU()\n",
      "  (4): Conv2d(16, 16, kernel_size=(1, 1), stride=(1, 1))\n",
      "  (5): ReLU()\n",
      ")\n",
      "name: pool1, layer: MaxPool2d(kernel_size=3, stride=2, padding=0, dilation=1, ceil_mode=False)\n",
      "name: pool2, layer: MaxPool2d(kernel_size=3, stride=2, padding=0, dilation=1, ceil_mode=False)\n",
      "name: avg_pool, layer: AdaptiveAvgPool2d(output_size=(1, 1))\n",
      "name: block1.0.weight\n",
      "name: block1.0.bias\n",
      "name: block1.2.weight\n",
      "name: block1.2.bias\n",
      "name: block1.4.weight\n",
      "name: block1.4.bias\n",
      "name: block2.0.weight\n",
      "name: block2.0.bias\n",
      "name: block2.2.weight\n",
      "name: block2.2.bias\n",
      "name: block2.4.weight\n",
      "name: block2.4.bias\n"
     ]
    }
   ],
   "execution_count": 3
  },
  {
   "metadata": {},
   "cell_type": "markdown",
   "source": "冻结参数",
   "id": "5a5d39c466e6c03d"
  },
  {
   "metadata": {
    "ExecuteTime": {
     "end_time": "2025-02-01T02:05:31.859152Z",
     "start_time": "2025-02-01T02:05:31.854089Z"
    }
   },
   "cell_type": "code",
   "source": [
    "#这里面要用layer_name\n",
    "for param in model.avg_pool.parameters():\n",
    "    param.requires_grad = False\n",
    "\n",
    "\"\"\"\n",
    "通常可以固定一些靠近数据端的一些层\n",
    "\"\"\""
   ],
   "id": "189c2977e5d0ed5",
   "outputs": [
    {
     "data": {
      "text/plain": [
       "'\\n通常可以固定一些靠近数据端的一些层\\n'"
      ]
     },
     "execution_count": 4,
     "metadata": {},
     "output_type": "execute_result"
    }
   ],
   "execution_count": 4
  },
  {
   "metadata": {},
   "cell_type": "markdown",
   "source": "修改某些特定层",
   "id": "25b6441bd8bf3423"
  },
  {
   "metadata": {
    "ExecuteTime": {
     "end_time": "2025-02-01T02:06:50.835302Z",
     "start_time": "2025-02-01T02:06:50.827569Z"
    }
   },
   "cell_type": "code",
   "source": [
    "model.avg_pool = nn.AdaptiveMaxPool2d((1,1))\n",
    "print(model.avg_pool._get_name())"
   ],
   "id": "9eb319a696ead0f5",
   "outputs": [
    {
     "name": "stdout",
     "output_type": "stream",
     "text": [
      "AdaptiveMaxPool2d\n"
     ]
    }
   ],
   "execution_count": 7
  },
  {
   "metadata": {},
   "cell_type": "markdown",
   "source": "分层调整学习率",
   "id": "7368c02b2f57e0e0"
  },
  {
   "metadata": {},
   "cell_type": "code",
   "outputs": [],
   "execution_count": null,
   "source": [
    "from torch.optim import Adam\n",
    "\n",
    "# 分组参数：卷积层参数 vs 全连接层参数\n",
    "conv_params = []\n",
    "fc_params = []\n",
    "for name, param in model.named_parameters():\n",
    "    if \"fc\" in name:\n",
    "        fc_params.append(param)\n",
    "    else:\n",
    "        conv_params.append(param)\n",
    "\n",
    "# 不同层设置不同学习率\n",
    "optimizer = Adam([\n",
    "    {\"params\": conv_params, \"lr\": 1e-5},  # 底层学习率低\n",
    "    {\"params\": fc_params, \"lr\": 1e-3}     # 顶层学习率高\n",
    "])"
   ],
   "id": "35e9eb93c3a22f96"
  }
 ],
 "metadata": {
  "kernelspec": {
   "display_name": "Python 3",
   "language": "python",
   "name": "python3"
  },
  "language_info": {
   "codemirror_mode": {
    "name": "ipython",
    "version": 2
   },
   "file_extension": ".py",
   "mimetype": "text/x-python",
   "name": "python",
   "nbconvert_exporter": "python",
   "pygments_lexer": "ipython2",
   "version": "2.7.6"
  }
 },
 "nbformat": 4,
 "nbformat_minor": 5
}
