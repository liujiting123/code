{
 "cells": [
  {
   "metadata": {},
   "cell_type": "markdown",
   "source": "常用的库",
   "id": "b1936e853b1aff17"
  },
  {
   "cell_type": "code",
   "execution_count": null,
   "id": "initial_id",
   "metadata": {
    "collapsed": true
   },
   "outputs": [],
   "source": [
    "import torch\n",
    "import torch.nn as nn\n",
    "from torch.utils.data import DataLoader\n",
    "from torch.optim import Adam\n",
    "from torchvision import transforms,datasets"
   ]
  },
  {
   "metadata": {},
   "cell_type": "markdown",
   "source": "常用的数据生成方式",
   "id": "2a6955e1d77fddcd"
  },
  {
   "metadata": {
    "ExecuteTime": {
     "end_time": "2025-01-24T13:16:51.145856Z",
     "start_time": "2025-01-24T13:16:51.141648Z"
    }
   },
   "cell_type": "code",
   "source": [
    "# 生成一个 2x3 的张量，元素值在 [0, 1) 之间均匀分布\n",
    "x = torch.rand(2, 3)\n",
    "# 示例输出：\n",
    "# tensor([[0.1234, 0.5678, 0.9101],\n",
    "#         [0.2345, 0.6789, 0.0123]])\n",
    "print(x)"
   ],
   "id": "b475e19640a704b5",
   "outputs": [
    {
     "name": "stdout",
     "output_type": "stream",
     "text": [
      "tensor([[0.2573, 0.9508, 0.9287],\n",
      "        [0.2140, 0.5410, 0.7977]])\n"
     ]
    }
   ],
   "execution_count": 80
  },
  {
   "metadata": {},
   "cell_type": "code",
   "outputs": [],
   "execution_count": null,
   "source": [
    "# 生成一个 2x3 的张量，元素服从标准正态分布 N(0, 1)\n",
    "x = torch.randn(2, 3,device='cuda')\n",
    "# 示例输出：\n",
    "# tensor([[ 0.1234, -0.5678,  1.2345],\n",
    "#         [-0.9876,  0.4321, -0.1111]])"
   ],
   "id": "726f80f8b91be3c3"
  },
  {
   "metadata": {
    "ExecuteTime": {
     "end_time": "2025-01-24T13:18:11.628878Z",
     "start_time": "2025-01-24T13:18:11.621431Z"
    }
   },
   "cell_type": "code",
   "source": [
    "# 生成一个 2x3 的张量，元素为 [0, 10) 之间的随机整数\n",
    "x = torch.randint(0, 10, (2, 3))\n",
    "# 示例输出：\n",
    "# tensor([[3, 7, 2],\n",
    "#         [8, 1, 9]])"
   ],
   "id": "bfa79219de0c2d0d",
   "outputs": [],
   "execution_count": 81
  },
  {
   "metadata": {
    "ExecuteTime": {
     "end_time": "2025-01-24T13:19:05.041502Z",
     "start_time": "2025-01-24T13:19:05.036393Z"
    }
   },
   "cell_type": "code",
   "source": [
    "# 生成一个长度为 5 的随机排列，范围为 [0, 5)\n",
    "x = torch.randperm(5)\n",
    "# 示例输出：\n",
    "# tensor([2, 0, 4, 1, 3])\n",
    "x"
   ],
   "id": "7e35882b708d7cef",
   "outputs": [
    {
     "data": {
      "text/plain": [
       "tensor([4, 1, 2, 3, 0])"
      ]
     },
     "execution_count": 88,
     "metadata": {},
     "output_type": "execute_result"
    }
   ],
   "execution_count": 88
  },
  {
   "metadata": {
    "ExecuteTime": {
     "end_time": "2025-01-24T13:19:19.911468Z",
     "start_time": "2025-01-24T13:19:19.906794Z"
    }
   },
   "cell_type": "code",
   "source": [
    "# 生成一个 2x3 的全 0 张量\n",
    "x = torch.zeros(2, 3)\n",
    "# 示例输出：\n",
    "# tensor([[0., 0., 0.],\n",
    "#         [0., 0., 0.]])"
   ],
   "id": "d529609c2fc9f3a",
   "outputs": [],
   "execution_count": 89
  },
  {
   "metadata": {
    "ExecuteTime": {
     "end_time": "2025-01-24T13:19:31.178547Z",
     "start_time": "2025-01-24T13:19:31.172285Z"
    }
   },
   "cell_type": "code",
   "source": [
    "# 生成一个 2x3 的全 1 张量\n",
    "x = torch.ones(2, 3)\n",
    "# 示例输出：\n",
    "# tensor([[1., 1., 1.],\n",
    "#         [1., 1., 1.]])"
   ],
   "id": "887b0de83a18633e",
   "outputs": [],
   "execution_count": 91
  },
  {
   "metadata": {
    "ExecuteTime": {
     "end_time": "2025-01-24T13:19:48.804747Z",
     "start_time": "2025-01-24T13:19:48.799791Z"
    }
   },
   "cell_type": "code",
   "source": [
    "# 生成一个 2x3 的张量，元素值全为 5\n",
    "x = torch.full((2, 3), 5)\n",
    "# 示例输出：\n",
    "# tensor([[5, 5, 5],\n",
    "#         [5, 5, 5]])"
   ],
   "id": "6358797269a9177f",
   "outputs": [],
   "execution_count": 92
  },
  {
   "metadata": {
    "ExecuteTime": {
     "end_time": "2025-01-24T13:20:20.188431Z",
     "start_time": "2025-01-24T13:20:20.182954Z"
    }
   },
   "cell_type": "code",
   "source": [
    "# 生成一个 3x3 的单位矩阵\n",
    "x = torch.eye(3)\n",
    "# 示例输出：\n",
    "# tensor([[1., 0., 0.],\n",
    "#         [0., 1., 0.],\n",
    "#         [0., 0., 1.]])\n",
    "x"
   ],
   "id": "2e6d4564ad6c742f",
   "outputs": [
    {
     "data": {
      "text/plain": [
       "tensor([[1., 0., 0.],\n",
       "        [0., 1., 0.],\n",
       "        [0., 0., 1.]])"
      ]
     },
     "execution_count": 94,
     "metadata": {},
     "output_type": "execute_result"
    }
   ],
   "execution_count": 94
  },
  {
   "metadata": {
    "ExecuteTime": {
     "end_time": "2025-01-24T13:21:02.896600Z",
     "start_time": "2025-01-24T13:21:02.891633Z"
    }
   },
   "cell_type": "code",
   "source": [
    "# 生成从 0 开始，到 10 结束（不包括 10），步长为 2 的数列\n",
    "x = torch.arange(0, 10, 2)\n",
    "# 示例输出：\n",
    "# tensor([0, 2, 4, 6, 8])"
   ],
   "id": "d371fbf97331cbe5",
   "outputs": [],
   "execution_count": 95
  },
  {
   "metadata": {
    "ExecuteTime": {
     "end_time": "2025-01-24T13:22:02.741377Z",
     "start_time": "2025-01-24T13:22:02.735089Z"
    }
   },
   "cell_type": "code",
   "source": [
    "# 生成从 0 到 1 的 5 个等间隔数\n",
    "x = torch.linspace(0, 1, 5)\n",
    "# 示例输出：\n",
    "# tensor([0.0000, 0.2500, 0.5000, 0.7500, 1.0000])"
   ],
   "id": "97f2e77ff4882b67",
   "outputs": [],
   "execution_count": 96
  },
  {
   "metadata": {
    "ExecuteTime": {
     "end_time": "2025-01-24T13:22:59.679410Z",
     "start_time": "2025-01-24T13:22:59.672300Z"
    }
   },
   "cell_type": "code",
   "source": [
    "# 生成从 10^0 到 10^1 的 5 个对数间隔数\n",
    "x = torch.logspace(0, 1, 5)\n",
    "# 示例输出：\n",
    "# tensor([ 1.0000,  1.7783,  3.1623,  5.6234, 10.0000])\n",
    "x"
   ],
   "id": "bf1ee0aa458f1f02",
   "outputs": [
    {
     "data": {
      "text/plain": [
       "tensor([ 1.0000,  1.7783,  3.1623,  5.6234, 10.0000])"
      ]
     },
     "execution_count": 99,
     "metadata": {},
     "output_type": "execute_result"
    }
   ],
   "execution_count": 99
  },
  {
   "metadata": {},
   "cell_type": "markdown",
   "source": "几个重要的方法（主要是深拷贝）",
   "id": "68abf3e28caff31c"
  },
  {
   "metadata": {
    "ExecuteTime": {
     "end_time": "2025-01-24T13:29:34.356476Z",
     "start_time": "2025-01-24T13:29:34.348502Z"
    }
   },
   "cell_type": "code",
   "source": [
    "# 创建一个张量\n",
    "x = torch.tensor([1, 2, 3])\n",
    "# 复制 x\n",
    "y = x.clone()\n",
    "if id(x) != id(y):\n",
    "    print(\"True\")\n",
    "else:\n",
    "    print(\"False\")\n",
    "# 示例输出：\n",
    "# tensor([1, 2, 3])"
   ],
   "id": "8fdb2c409e7f60f3",
   "outputs": [
    {
     "name": "stdout",
     "output_type": "stream",
     "text": [
      "True\n"
     ]
    }
   ],
   "execution_count": 100
  },
  {
   "metadata": {},
   "cell_type": "code",
   "outputs": [],
   "execution_count": null,
   "source": [
    "# 创建一个张量\n",
    "x = torch.tensor([[1, 2], [3, 4]])\n",
    "# 生成与 x 形状相同的全 0 张量\n",
    "y = torch.zeros_like(x)\n",
    "# 示例输出：\n",
    "# tensor([[0, 0],\n",
    "#         [0, 0]])"
   ],
   "id": "29465056be14b563"
  },
  {
   "metadata": {},
   "cell_type": "code",
   "outputs": [],
   "execution_count": null,
   "source": [
    "x = torch.tensor([[1, 2, 3], [4, 5, 6]])\n",
    "\n",
    "# 创建一个空张量\n",
    "z = torch.empty_like(x[0, :])\n",
    "\n",
    "# 使用 copy_ 复制数据\n",
    "z.copy_(x[0, :])  # 深拷贝"
   ],
   "id": "abe7ebee431b4d77"
  }
 ],
 "metadata": {
  "kernelspec": {
   "display_name": "Python 3",
   "language": "python",
   "name": "python3"
  },
  "language_info": {
   "codemirror_mode": {
    "name": "ipython",
    "version": 2
   },
   "file_extension": ".py",
   "mimetype": "text/x-python",
   "name": "python",
   "nbconvert_exporter": "python",
   "pygments_lexer": "ipython2",
   "version": "2.7.6"
  }
 },
 "nbformat": 4,
 "nbformat_minor": 5
}
