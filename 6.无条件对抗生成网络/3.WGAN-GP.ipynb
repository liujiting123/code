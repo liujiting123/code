{
 "cells": [
  {
   "cell_type": "code",
   "id": "initial_id",
   "metadata": {
    "collapsed": true,
    "ExecuteTime": {
     "end_time": "2025-02-24T08:46:00.109893Z",
     "start_time": "2025-02-24T08:46:00.096206Z"
    }
   },
   "source": [
    "import torch\n",
    "import torch.nn as nn\n",
    "from numpy.ma.core import zeros_like\n",
    "from torch.optim import Adam\n",
    "from torch.utils.data import DataLoader, Dataset, TensorDataset\n",
    "from torchvision.utils import make_grid\n",
    "import matplotlib.pyplot as plt\n",
    "from torchvision import transforms, datasets\n",
    "\n",
    "device = torch.device(\"cuda:0\" if torch.cuda.is_available() else \"cpu\")\n",
    "z_dim = 100\n",
    "batch_size = 128\n",
    "ngf = 64\n",
    "ndf = 64\n",
    "img_channels = 1"
   ],
   "outputs": [],
   "execution_count": 9
  },
  {
   "metadata": {
    "ExecuteTime": {
     "end_time": "2025-02-24T08:46:00.125563Z",
     "start_time": "2025-02-24T08:46:00.109893Z"
    }
   },
   "cell_type": "code",
   "source": [
    "class Generator(nn.Module):\n",
    "    def __init__(self):\n",
    "        super(Generator, self).__init__()\n",
    "\n",
    "        self.block1 = nn.Sequential(\n",
    "            nn.ConvTranspose2d(z_dim, ngf * 8, 4, 1, 0, bias=False),\n",
    "            nn.BatchNorm2d(ngf * 8),\n",
    "            nn.ReLU(True),\n",
    "        )\n",
    "        self.block2 = nn.Sequential(\n",
    "            nn.ConvTranspose2d(ngf * 8, ngf * 4, 4, 2, 1, bias=False),\n",
    "            nn.BatchNorm2d(ngf * 4),\n",
    "            nn.ReLU(True),\n",
    "        )\n",
    "        self.block3 = nn.Sequential(\n",
    "            nn.ConvTranspose2d(ngf * 4, ngf * 2, 4, 2, 1, bias=False),\n",
    "            nn.BatchNorm2d(ngf * 2),\n",
    "            nn.ReLU(True),\n",
    "        )\n",
    "        self.block4 = nn.Sequential(\n",
    "            nn.ConvTranspose2d(ngf * 2, ngf, 4, 2, 1, bias=False),\n",
    "            nn.BatchNorm2d(ngf),\n",
    "            nn.ReLU(True),\n",
    "        )\n",
    "        self.block5 = nn.Sequential(\n",
    "            nn.ConvTranspose2d(ngf, img_channels, 4, 2, 1, bias=False),\n",
    "            nn.Tanh()\n",
    "        )\n",
    "\n",
    "    def forward(self, z):\n",
    "        x = self.block1(z)\n",
    "        x = self.block2(x)\n",
    "        x = self.block3(x)\n",
    "        x = self.block4(x)\n",
    "        return self.block5(x)"
   ],
   "id": "1daee4fa602ebdeb",
   "outputs": [],
   "execution_count": 10
  },
  {
   "metadata": {
    "ExecuteTime": {
     "end_time": "2025-02-24T08:46:00.157191Z",
     "start_time": "2025-02-24T08:46:00.141256Z"
    }
   },
   "cell_type": "code",
   "source": [
    "class Critic(nn.Module):\n",
    "    def __init__(self):\n",
    "        super(Critic,self).__init__()\n",
    "        self.block1 = nn.Sequential(\n",
    "            nn.Conv2d(img_channels, ngf * 8, 4, 2, 1, bias=False),\n",
    "            nn.LeakyReLU(0.2, inplace=True),\n",
    "        )\n",
    "        self.block2 = nn.Sequential(\n",
    "            nn.Conv2d(ngf * 8, ngf * 4, 4, 2, 1, bias=False),\n",
    "            nn.LeakyReLU(0.2, inplace=True),\n",
    "        )\n",
    "        self.block3 = nn.Sequential(\n",
    "            nn.Conv2d(ngf * 4, ngf * 2, 4, 2, 1, bias=False),\n",
    "            nn.LeakyReLU(0.2, inplace=True),\n",
    "        )\n",
    "        self.block4 = nn.Sequential(\n",
    "            nn.Conv2d(ngf * 2, ngf, 4, 2, 1, bias=False),\n",
    "            nn.LeakyReLU(0.2, inplace=True),\n",
    "        )\n",
    "        self.block5 = nn.Sequential(\n",
    "            nn.Conv2d(ngf, 1, 4, 1, 0, bias=False),  # 输出一个标量\n",
    "        )\n",
    "\n",
    "    def forward(self, x):\n",
    "        x = self.block1(x)\n",
    "        x = self.block2(x)\n",
    "        x = self.block3(x)\n",
    "        x = self.block4(x)\n",
    "        return self.block5(x)"
   ],
   "id": "92c57279059e3037",
   "outputs": [],
   "execution_count": 11
  },
  {
   "metadata": {
    "ExecuteTime": {
     "end_time": "2025-02-24T08:46:00.189094Z",
     "start_time": "2025-02-24T08:46:00.173179Z"
    }
   },
   "cell_type": "code",
   "source": [
    "def gradient_penalty(critic, real_samples, fake_samples, device=\"cuda\"):\n",
    "    batch_size = real_samples.shape[0]\n",
    "\n",
    "    # 生成随机插值系数 alpha，并调整形状\n",
    "    alpha = torch.rand(batch_size, 1, 1, 1).to(device)\n",
    "\n",
    "    # 计算插值数据\n",
    "    interpolates = alpha * real_samples + (1 - alpha) * fake_samples\n",
    "    interpolates.requires_grad_(True)  # 需要梯度跟踪\n",
    "\n",
    "    # 计算判别器在插值样本上的输出\n",
    "    scores = critic(interpolates)\n",
    "\n",
    "    # 计算梯度，注意这里需要retain_graph=True\n",
    "    gradients = torch.autograd.grad(outputs=scores, inputs=interpolates,\n",
    "                                    grad_outputs=torch.ones_like(scores),\n",
    "                                    create_graph=True, retain_graph=True)[0]\n",
    "\n",
    "    # 计算梯度范数\n",
    "    gradient_norm = gradients.view(batch_size, -1).norm(2, dim=1)\n",
    "\n",
    "    # 计算梯度惩罚项\n",
    "    gradient_penalty = ((gradient_norm - 1) ** 2).mean()\n",
    "\n",
    "    return gradient_penalty\n",
    "\n",
    "\n",
    "\n",
    "def d_loss_function(real, fake):\n",
    "    return torch.mean(fake) - torch.mean(real)\n",
    "\n",
    "def g_loss_function(fake):\n",
    "    return -torch.mean(fake)"
   ],
   "id": "e28ca4285f17c666",
   "outputs": [],
   "execution_count": 12
  },
  {
   "metadata": {
    "ExecuteTime": {
     "end_time": "2025-02-24T08:46:00.299638Z",
     "start_time": "2025-02-24T08:46:00.205046Z"
    }
   },
   "cell_type": "code",
   "source": [
    "critic = Critic().to(device)\n",
    "generator = Generator().to(device)\n",
    "d_optimizer = Adam(generator.parameters(), lr=0.0002, betas=(0.1, 0.999))\n",
    "g_optimizer = Adam(generator.parameters(), lr=0.0002, betas=(0.1, 0.999))"
   ],
   "id": "b0c2ac1f2fefb67b",
   "outputs": [],
   "execution_count": 13
  },
  {
   "metadata": {
    "ExecuteTime": {
     "end_time": "2025-02-24T08:46:06.999403Z",
     "start_time": "2025-02-24T08:46:06.987374Z"
    }
   },
   "cell_type": "code",
   "source": [
    "test = torch.randn(batch_size, z_dim,1,1).to(device)\n",
    "middle = generator(test)\n",
    "out = critic(middle)\n",
    "print(f\"out shape: {out.shape},middle shape: {middle.shape}\")"
   ],
   "id": "33a254e2933f0d72",
   "outputs": [
    {
     "name": "stdout",
     "output_type": "stream",
     "text": [
      "out shape: torch.Size([128, 1, 1, 1]),middle shape: torch.Size([128, 1, 64, 64])\n"
     ]
    }
   ],
   "execution_count": 18
  },
  {
   "metadata": {
    "ExecuteTime": {
     "end_time": "2025-02-24T08:46:01.029978Z",
     "start_time": "2025-02-24T08:46:01.006502Z"
    }
   },
   "cell_type": "code",
   "source": [
    "def train(num_epochs, train_loader):\n",
    "    generator.train()\n",
    "    critic.train()\n",
    "    epochs = torch.arange(1, num_epochs + 1)\n",
    "    g_losses = []\n",
    "    d_losses = []\n",
    "\n",
    "    for epoch in range(num_epochs):\n",
    "        g_running_loss = 0.0\n",
    "        d_running_loss = 0.0\n",
    "        for i, (real_images, _) in enumerate(train_loader):  # 遍历数据集，每次获取一个 batch 的真实图像\n",
    "            d_optimizer.zero_grad()  # 清空判别器的梯度\n",
    "\n",
    "            real_images = real_images.to(device)  # 将真实图像移动到计算设备\n",
    "            real_outputs = critic(real_images)  # 判别器对真实图像的预测\n",
    "\n",
    "            z = torch.randn(batch_size, z_dim, 1, 1).to(device)  # 生成 batch_size 个随机噪声向量\n",
    "            fake_images = generator(z)  # 生成器生成假的图像\n",
    "            fake_outputs = critic(fake_images.detach())  # 判别器对假图像的预测（detach 避免更新生成器）\n",
    "\n",
    "            d_loss = d_loss_function(real_outputs, fake_outputs) + 10 * gradient_penalty(critic, real_images,\n",
    "                                                                                         fake_images)\n",
    "\n",
    "            d_loss.backward(retain_graph=True)  # 反向传播更新判别器\n",
    "            d_optimizer.step()  # 进行梯度更新\n",
    "\n",
    "            if (i + 1) % 50 == 0:\n",
    "                g_optimizer.zero_grad()  # 清空生成器的梯度\n",
    "                g_outputs = critic(fake_images)  # 让判别器评估生成的假图像\n",
    "                g_loss = g_loss_function(g_outputs)  # 计算生成器的损失（希望判别器认为假图像是真实的）\n",
    "                g_loss.backward()  # 反向传播更新生成器\n",
    "                g_optimizer.step()  # 进行梯度更新\n",
    "\n",
    "                g_running_loss += g_loss.item()  # 记录生成器损失\n",
    "                d_running_loss += d_loss.item()  # 记录判别器损失\n",
    "\n",
    "            if (i + 1) % 100 == 0:\n",
    "                print(\n",
    "                    f\"Epoch : [{epoch + 1}/{num_epochs}]\\tIter : [{i + 1}/{len(train_loader)}]\\tGenerator Loss: {g_running_loss / (i + 1):.3f}\\tDiscriminator Loss: {d_running_loss / (i + 1):.3f} \",\n",
    "                    '\\n')\n",
    "\n",
    "        g_losses.append(g_running_loss / len(train_loader))\n",
    "        d_losses.append(d_running_loss / len(train_loader))\n",
    "\n",
    "    fig, axes = plt.subplots(1, 2, figsize=(10, 4))  # 1行2列的子图\n",
    "\n",
    "    # 绘制 Generator Loss\n",
    "    axes[0].plot(epochs, g_losses, marker='o', color='blue', label='Generator Loss')\n",
    "    axes[0].set_xlabel('Epoch')\n",
    "    axes[0].set_ylabel('G Loss')\n",
    "    axes[0].set_title('Generator Loss Curve')\n",
    "    axes[0].legend()\n",
    "\n",
    "    # 绘制 Discriminator Loss\n",
    "    axes[1].plot(epochs, d_losses, marker='s', color='red', label='Discriminator Loss')\n",
    "    axes[1].set_xlabel('Epoch')\n",
    "    axes[1].set_ylabel('D Loss')\n",
    "    axes[1].set_title('Discriminator Loss Curve')\n",
    "    axes[1].legend()\n",
    "\n",
    "    plt.tight_layout()\n",
    "    plt.show()\n"
   ],
   "id": "48b0bd6ae565a9c5",
   "outputs": [],
   "execution_count": 15
  },
  {
   "metadata": {
    "ExecuteTime": {
     "end_time": "2025-02-24T08:46:01.066022Z",
     "start_time": "2025-02-24T08:46:01.050076Z"
    }
   },
   "cell_type": "code",
   "source": [
    "from torchvision.utils import make_grid\n",
    "def show_generated_images(generator, z_dim, device, num_images=64):\n",
    "    # 生成随机噪声\n",
    "    noise = torch.randn(num_images, z_dim, 1, 1, device=device)\n",
    "    # 使用生成器生成假图像，并确保不计算梯度\n",
    "    with torch.no_grad():\n",
    "        fake_images = generator(noise).detach().cpu()\n",
    "\n",
    "    # 利用 torchvision 的 make_grid 函数将多张图片拼接成一个网格\n",
    "    image_grid = make_grid(fake_images, padding=2, normalize=True)\n",
    "\n",
    "    # 将图像转换成 numpy 数组，并转换通道顺序以适应 matplotlib (H, W, C)\n",
    "    np_image = image_grid.numpy().transpose((1, 2, 0))\n",
    "\n",
    "    # 使用 matplotlib 显示图像\n",
    "    plt.figure(figsize=(8, 8))\n",
    "    plt.imshow(np_image)\n",
    "    plt.axis(\"off\")\n",
    "    plt.show()"
   ],
   "id": "88e39c0d30805e24",
   "outputs": [],
   "execution_count": 16
  },
  {
   "metadata": {
    "ExecuteTime": {
     "end_time": "2025-02-24T08:46:01.113209Z",
     "start_time": "2025-02-24T08:46:01.097431Z"
    }
   },
   "cell_type": "code",
   "source": "",
   "id": "821913853ae65b79",
   "outputs": [],
   "execution_count": null
  }
 ],
 "metadata": {
  "kernelspec": {
   "display_name": "Python 3",
   "language": "python",
   "name": "python3"
  },
  "language_info": {
   "codemirror_mode": {
    "name": "ipython",
    "version": 2
   },
   "file_extension": ".py",
   "mimetype": "text/x-python",
   "name": "python",
   "nbconvert_exporter": "python",
   "pygments_lexer": "ipython2",
   "version": "2.7.6"
  }
 },
 "nbformat": 4,
 "nbformat_minor": 5
}
