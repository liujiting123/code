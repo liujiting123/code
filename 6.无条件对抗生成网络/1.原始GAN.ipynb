{
 "cells": [
  {
   "cell_type": "code",
   "id": "initial_id",
   "metadata": {
    "collapsed": true,
    "ExecuteTime": {
     "end_time": "2025-02-10T12:24:53.227423Z",
     "start_time": "2025-02-10T12:24:53.216041Z"
    }
   },
   "source": [
    "import torch.nn as nn\n",
    "import torch\n",
    "from torchvision import datasets,transforms\n",
    "from torch.utils.data import DataLoader,Dataset\n",
    "device = torch.device(\"cuda:0\" if torch.cuda.is_available() else \"cpu\")\n",
    "import matplotlib.pyplot as plt"
   ],
   "outputs": [],
   "execution_count": 7
  },
  {
   "metadata": {
    "ExecuteTime": {
     "end_time": "2025-02-10T12:24:53.243321Z",
     "start_time": "2025-02-10T12:24:53.228101Z"
    }
   },
   "cell_type": "code",
   "source": [
    "z_dim = 100\n",
    "img_size = 64\n",
    "batch_size = 64"
   ],
   "id": "53c47d1366342938",
   "outputs": [],
   "execution_count": 8
  },
  {
   "metadata": {
    "ExecuteTime": {
     "end_time": "2025-02-10T12:24:53.291094Z",
     "start_time": "2025-02-10T12:24:53.275431Z"
    }
   },
   "cell_type": "code",
   "source": [
    "class Generator(nn.Module):\n",
    "    def __init__(self,z_dim,img_size):\n",
    "        super(Generator,self).__init__()\n",
    "        self.img_size = img_size\n",
    "        self.z_dim = z_dim\n",
    "        self.net = nn.Sequential(\n",
    "            nn.Linear(self.z_dim,256),\n",
    "            nn.LeakyReLU(0.2),\n",
    "            nn.BatchNorm1d(256),\n",
    "\n",
    "            nn.Linear(256,512),\n",
    "            nn.LeakyReLU(0.2),\n",
    "            nn.BatchNorm1d(512),\n",
    "\n",
    "            nn.Linear(512,1024),\n",
    "            nn.LeakyReLU(0.2),\n",
    "            nn.BatchNorm1d(1024),\n",
    "\n",
    "            nn.Linear(1024,self.img_size**2),\n",
    "        )\n",
    "\n",
    "    def forward(self, x):\n",
    "        return self.net(x)"
   ],
   "id": "d7b395c4d2a411e7",
   "outputs": [],
   "execution_count": 9
  },
  {
   "metadata": {
    "ExecuteTime": {
     "end_time": "2025-02-10T12:24:53.323165Z",
     "start_time": "2025-02-10T12:24:53.307057Z"
    }
   },
   "cell_type": "code",
   "source": [
    "class Discriminator(nn.Module):\n",
    "    def __init__(self,img_size):\n",
    "        super(Discriminator,self).__init__()\n",
    "        self.net = nn.Sequential(\n",
    "            nn.Linear(img_size,1024),\n",
    "            nn.LeakyReLU(0.2),\n",
    "            nn.BatchNorm1d(1024),\n",
    "\n",
    "            nn.Linear(1024,512),\n",
    "            nn.LeakyReLU(0.2),\n",
    "            nn.BatchNorm1d(512),\n",
    "\n",
    "            nn.Linear(512,256),\n",
    "            nn.LeakyReLU(0.2),\n",
    "            nn.BatchNorm1d(256),\n",
    "\n",
    "            nn.Linear(256,1),\n",
    "            nn.Sigmoid()\n",
    "        )\n",
    "\n",
    "    def forward(self, x):\n",
    "        return self.net(x)"
   ],
   "id": "699ac0e3e8f3c18d",
   "outputs": [],
   "execution_count": 10
  },
  {
   "metadata": {
    "ExecuteTime": {
     "end_time": "2025-02-10T12:24:53.389750Z",
     "start_time": "2025-02-10T12:24:53.339251Z"
    }
   },
   "cell_type": "code",
   "source": [
    "discriminator = Discriminator(img_size)\n",
    "generator = Generator(z_dim,img_size)"
   ],
   "id": "1f4ece86dcbfde97",
   "outputs": [],
   "execution_count": 11
  },
  {
   "metadata": {
    "ExecuteTime": {
     "end_time": "2025-02-10T12:25:17.943078Z",
     "start_time": "2025-02-10T12:25:17.927178Z"
    }
   },
   "cell_type": "code",
   "source": [
    "criterion = nn.BCELoss()\n",
    "optimizer_G = torch.optim.Adam(generator.parameters(),lr=0.0002)\n",
    "optimizer_D = torch.optim.Adam(discriminator.parameters(),lr=0.0002)"
   ],
   "id": "8d67b77d69b5d88",
   "outputs": [],
   "execution_count": 12
  },
  {
   "metadata": {},
   "cell_type": "code",
   "outputs": [],
   "execution_count": null,
   "source": [
    "def train(num_epochs,train_loader,d_optimizer,g_optimizer):\n",
    "    generator.train()\n",
    "    discriminator.train()\n",
    "    epochs = torch.arange(1, num_epochs+1)\n",
    "    g_losses = []\n",
    "    d_losses = []\n",
    "\n",
    "    for epoch in range(num_epochs):\n",
    "        g_running_loss = 0.0\n",
    "        d_running_loss = 0.0\n",
    "        for i, (real_images,_) in enumerate(train_loader):  # 遍历数据集，每次获取一个 batch 的真实图像\n",
    "            d_optimizer.zero_grad()  # 清空判别器的梯度\n",
    "\n",
    "            real_images = real_images.to(device)  # 将真实图像移动到计算设备\n",
    "            real_outputs = discriminator(real_images)  # 判别器对真实图像的预测\n",
    "            real_labels = torch.ones(batch_size).to(device)  # 真实样本的标签设为 1\n",
    "\n",
    "            z = torch.randn(batch_size, z_dim, 1 , 1).to(device)  # 生成 batch_size 个随机噪声向量\n",
    "            fake_images = generator(z)  # 生成器生成假的图像\n",
    "            fake_outputs = discriminator(fake_images.detach())  # 判别器对假图像的预测（detach 避免更新生成器）\n",
    "            fake_labels = torch.zeros(batch_size).to(device)  # 假样本的标签设为 0\n",
    "\n",
    "            d_real_loss = criterion(real_outputs, real_labels)  # 计算判别器在真实图像上的损失\n",
    "            d_fake_loss = criterion(fake_outputs, fake_labels)  # 计算判别器在假图像上的损失\n",
    "            d_loss = d_real_loss + d_fake_loss  # 判别器的总损失\n",
    "\n",
    "            d_loss.backward()  # 反向传播更新判别器\n",
    "            d_optimizer.step()  # 进行梯度更新\n",
    "\n",
    "            g_optimizer.zero_grad()  # 清空生成器的梯度\n",
    "            g_outputs = discriminator(fake_images)  # 让判别器评估生成的假图像\n",
    "            g_loss = criterion(g_outputs, real_labels)  # 计算生成器的损失（希望判别器认为假图像是真实的）\n",
    "            g_loss.backward()  # 反向传播更新生成器\n",
    "            g_optimizer.step()  # 进行梯度更新\n",
    "\n",
    "            g_running_loss += g_loss.item()  # 记录生成器损失\n",
    "            d_running_loss += d_loss.item()  # 记录判别器损失\n",
    "\n",
    "            if (i+1) % 100 == 0:\n",
    "                print(f\"Epoch : [{epoch+1}/{num_epochs}]\\tIter : [{i+1}/{len(train_loader)}]\\tGenerator Loss: {g_running_loss/(i+1):.3f}\\tDiscriminator Loss: {d_running_loss/(i+1):.3f} \",'\\n')\n",
    "\n",
    "        g_losses.append(g_running_loss/len(train_loader))\n",
    "        d_losses.append(d_running_loss/len(train_loader))\n",
    "\n",
    "    fig, axes = plt.subplots(1, 2, figsize=(10, 4))  # 1行2列的子图\n",
    "\n",
    "    # 绘制 Generator Loss\n",
    "    axes[0].plot(epochs, g_losses, marker='o', color='blue', label='Generator Loss')\n",
    "    axes[0].set_xlabel('Epoch')\n",
    "    axes[0].set_ylabel('G Loss')\n",
    "    axes[0].set_title('Generator Loss Curve')\n",
    "    axes[0].legend()\n",
    "\n",
    "    # 绘制 Discriminator Loss\n",
    "    axes[1].plot(epochs, d_losses, marker='s', color='red', label='Discriminator Loss')\n",
    "    axes[1].set_xlabel('Epoch')\n",
    "    axes[1].set_ylabel('D Loss')\n",
    "    axes[1].set_title('Discriminator Loss Curve')\n",
    "    axes[1].legend()\n",
    "\n",
    "    plt.tight_layout()\n",
    "    plt.show()"
   ],
   "id": "831a8fbb47fd75df"
  },
  {
   "metadata": {},
   "cell_type": "code",
   "outputs": [],
   "execution_count": null,
   "source": [
    "from torchvision.utils import make_grid\n",
    "\n",
    "\n",
    "def show_generated_images(generator, z_dim, device, num_images=64):\n",
    "    # 生成随机噪声\n",
    "    noise = torch.randn(num_images, z_dim, 1, 1, device=device)\n",
    "    # 使用生成器生成假图像，并确保不计算梯度\n",
    "    with torch.no_grad():\n",
    "        fake_images = generator(noise).detach().cpu()\n",
    "\n",
    "    # 利用 torchvision 的 make_grid 函数将多张图片拼接成一个网格\n",
    "    image_grid = make_grid(fake_images, padding=2, normalize=True)\n",
    "\n",
    "    # 将图像转换成 numpy 数组，并转换通道顺序以适应 matplotlib (H, W, C)\n",
    "    np_image = image_grid.numpy().transpose((1, 2, 0))\n",
    "\n",
    "    # 使用 matplotlib 显示图像\n",
    "    plt.figure(figsize=(8, 8))\n",
    "    plt.imshow(np_image)\n",
    "    plt.axis(\"off\")\n",
    "    plt.show()\n"
   ],
   "id": "99d092ba035cb1c7"
  }
 ],
 "metadata": {
  "kernelspec": {
   "display_name": "Python 3",
   "language": "python",
   "name": "python3"
  },
  "language_info": {
   "codemirror_mode": {
    "name": "ipython",
    "version": 2
   },
   "file_extension": ".py",
   "mimetype": "text/x-python",
   "name": "python",
   "nbconvert_exporter": "python",
   "pygments_lexer": "ipython2",
   "version": "2.7.6"
  }
 },
 "nbformat": 4,
 "nbformat_minor": 5
}
